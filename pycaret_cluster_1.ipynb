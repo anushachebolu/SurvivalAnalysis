{
 "cells": [
  {
   "cell_type": "markdown",
   "id": "ca55c623-c9a2-404f-a363-441e7bc28a5a",
   "metadata": {},
   "source": [
    "### APPROACH 1: Kaplan-Meier and Log-Rank Test"
   ]
  },
  {
   "cell_type": "markdown",
   "id": "37a63573-479f-4d33-abfe-579bd130923e",
   "metadata": {},
   "source": [
    "#### Step 1: Data Preparation"
   ]
  },
  {
   "cell_type": "code",
   "execution_count": 1,
   "id": "716879e5-c9d0-4cfb-ae38-1f3524b603fc",
   "metadata": {},
   "outputs": [
    {
     "name": "stderr",
     "output_type": "stream",
     "text": [
      "<ipython-input-1-31be57041f36>:2: DtypeWarning: Columns (18,62) have mixed types. Specify dtype option on import or set low_memory=False.\n",
      "  df_tcga_rna_seq_clinical = pd.read_csv('../Clustered DF.csv')\n"
     ]
    }
   ],
   "source": [
    "import pandas as pd\n",
    "df_tcga_rna_seq_clinical = pd.read_csv('../Clustered DF.csv')"
   ]
  },
  {
   "cell_type": "code",
   "execution_count": 2,
   "id": "67df877c-0adb-4cf1-b8ee-3eee57aa88a8",
   "metadata": {},
   "outputs": [],
   "source": [
    "df_cluster_0 = df_tcga_rna_seq_clinical[df_tcga_rna_seq_clinical['Cluster'] == 'Cluster 0']\n",
    "df_cluster_1 = df_tcga_rna_seq_clinical[df_tcga_rna_seq_clinical['Cluster'] == 'Cluster 1']\n",
    "df_cluster_2 = df_tcga_rna_seq_clinical[df_tcga_rna_seq_clinical['Cluster'] == 'Cluster 2']\n",
    "df_cluster_3 = df_tcga_rna_seq_clinical[df_tcga_rna_seq_clinical['Cluster'] == 'Cluster 3']"
   ]
  },
  {
   "cell_type": "code",
   "execution_count": 3,
   "id": "54cf100f-67e4-4725-ab3b-25024ac5f37e",
   "metadata": {},
   "outputs": [
    {
     "data": {
      "text/plain": [
       "(245, 60749)"
      ]
     },
     "execution_count": 3,
     "metadata": {},
     "output_type": "execute_result"
    }
   ],
   "source": [
    "df_cluster_0.shape"
   ]
  },
  {
   "cell_type": "code",
   "execution_count": 4,
   "id": "f237129e-8d21-45ce-96c4-ee68dcd7f484",
   "metadata": {},
   "outputs": [
    {
     "data": {
      "text/plain": [
       "(342, 60749)"
      ]
     },
     "execution_count": 4,
     "metadata": {},
     "output_type": "execute_result"
    }
   ],
   "source": [
    "df_cluster_1.shape"
   ]
  },
  {
   "cell_type": "code",
   "execution_count": 5,
   "id": "fec969cd-5782-4052-8009-e904d55aedc0",
   "metadata": {
    "scrolled": true
   },
   "outputs": [
    {
     "data": {
      "text/plain": [
       "(177, 60749)"
      ]
     },
     "execution_count": 5,
     "metadata": {},
     "output_type": "execute_result"
    }
   ],
   "source": [
    "df_cluster_2.shape"
   ]
  },
  {
   "cell_type": "code",
   "execution_count": 6,
   "id": "007d4c6a-f99e-4c76-b8d1-645c93d4f296",
   "metadata": {},
   "outputs": [
    {
     "data": {
      "text/plain": [
       "(330, 60749)"
      ]
     },
     "execution_count": 6,
     "metadata": {},
     "output_type": "execute_result"
    }
   ],
   "source": [
    "df_cluster_3.shape"
   ]
  },
  {
   "cell_type": "code",
   "execution_count": 7,
   "id": "dd745b53-8bed-4fea-a323-2001e7bc3a3c",
   "metadata": {},
   "outputs": [
    {
     "name": "stderr",
     "output_type": "stream",
     "text": [
      "<ipython-input-7-910b2e6a1994>:1: SettingWithCopyWarning: \n",
      "A value is trying to be set on a copy of a slice from a DataFrame.\n",
      "Try using .loc[row_indexer,col_indexer] = value instead\n",
      "\n",
      "See the caveats in the documentation: https://pandas.pydata.org/pandas-docs/stable/user_guide/indexing.html#returning-a-view-versus-a-copy\n",
      "  df_cluster_1['event_time'] = df_cluster_1.apply(\n",
      "<ipython-input-7-910b2e6a1994>:5: SettingWithCopyWarning: \n",
      "A value is trying to be set on a copy of a slice from a DataFrame.\n",
      "Try using .loc[row_indexer,col_indexer] = value instead\n",
      "\n",
      "See the caveats in the documentation: https://pandas.pydata.org/pandas-docs/stable/user_guide/indexing.html#returning-a-view-versus-a-copy\n",
      "  df_cluster_1['event_observed'] = df_cluster_1['vital_status'].apply(lambda x: 0 if x == 'Dead' else 1)\n"
     ]
    }
   ],
   "source": [
    "df_cluster_1['event_time'] = df_cluster_1.apply(\n",
    "    lambda row: row['days_to_last_follow_up'] if row['vital_status'] == 'Alive' else row['days_to_death'],\n",
    "    axis=1\n",
    ")\n",
    "df_cluster_1['event_observed'] = df_cluster_1['vital_status'].apply(lambda x: 0 if x == 'Dead' else 1)"
   ]
  },
  {
   "cell_type": "markdown",
   "id": "cfdebcc8-42d4-4d4f-a4c8-4780a7e7201b",
   "metadata": {},
   "source": [
    "#### Step 2: Categorizing BCL9 Expression"
   ]
  },
  {
   "cell_type": "code",
   "execution_count": 8,
   "id": "25357113-59ab-4aa5-a7ae-8c0b21e8a057",
   "metadata": {},
   "outputs": [
    {
     "name": "stderr",
     "output_type": "stream",
     "text": [
      "<ipython-input-8-9b13840b4c6e>:5: SettingWithCopyWarning: \n",
      "A value is trying to be set on a copy of a slice from a DataFrame.\n",
      "Try using .loc[row_indexer,col_indexer] = value instead\n",
      "\n",
      "See the caveats in the documentation: https://pandas.pydata.org/pandas-docs/stable/user_guide/indexing.html#returning-a-view-versus-a-copy\n",
      "  df_cluster_1['BCL9_Group'] = 'Intermediate'  # Default to Intermediate\n"
     ]
    }
   ],
   "source": [
    "Q1 = df_cluster_1['ENSG00000116128.11'].quantile(0.25)\n",
    "Q3 = df_cluster_1['ENSG00000116128.11'].quantile(0.75)\n",
    "\n",
    "# Classify patients based on BCL9 expression levels\n",
    "df_cluster_1['BCL9_Group'] = 'Intermediate'  # Default to Intermediate\n",
    "df_cluster_1.loc[df_cluster_1['ENSG00000116128.11'] <= Q1, 'BCL9_Group'] = 'Low'\n",
    "df_cluster_1.loc[df_cluster_1['ENSG00000116128.11'] >= Q3, 'BCL9_Group'] = 'High'"
   ]
  },
  {
   "cell_type": "code",
   "execution_count": 9,
   "id": "0fc17f5e-0d1a-4de8-86fc-12e14cc62300",
   "metadata": {},
   "outputs": [
    {
     "data": {
      "text/html": [
       "<div>\n",
       "<style scoped>\n",
       "    .dataframe tbody tr th:only-of-type {\n",
       "        vertical-align: middle;\n",
       "    }\n",
       "\n",
       "    .dataframe tbody tr th {\n",
       "        vertical-align: top;\n",
       "    }\n",
       "\n",
       "    .dataframe thead th {\n",
       "        text-align: right;\n",
       "    }\n",
       "</style>\n",
       "<table border=\"1\" class=\"dataframe\">\n",
       "  <thead>\n",
       "    <tr style=\"text-align: right;\">\n",
       "      <th></th>\n",
       "      <th>Unnamed: 0.1</th>\n",
       "      <th>Unnamed: 0</th>\n",
       "      <th>_id_x</th>\n",
       "      <th>patientID</th>\n",
       "      <th>barcode</th>\n",
       "      <th>patient</th>\n",
       "      <th>sample</th>\n",
       "      <th>shortLetterCode</th>\n",
       "      <th>definition</th>\n",
       "      <th>sample_submitter_id</th>\n",
       "      <th>...</th>\n",
       "      <th>ENSG00000288667.1</th>\n",
       "      <th>ENSG00000288669.1</th>\n",
       "      <th>ENSG00000288670.1</th>\n",
       "      <th>ENSG00000288671.1</th>\n",
       "      <th>ENSG00000288674.1</th>\n",
       "      <th>ENSG00000288675.1</th>\n",
       "      <th>Cluster</th>\n",
       "      <th>event_time</th>\n",
       "      <th>event_observed</th>\n",
       "      <th>BCL9_Group</th>\n",
       "    </tr>\n",
       "  </thead>\n",
       "  <tbody>\n",
       "    <tr>\n",
       "      <th>3</th>\n",
       "      <td>3</td>\n",
       "      <td>3</td>\n",
       "      <td>65325f1f961444e8e0ce4aac</td>\n",
       "      <td>A0D4</td>\n",
       "      <td>TCGA-A2-A0D4-01A-11R-A00Z-07</td>\n",
       "      <td>TCGA-A2-A0D4</td>\n",
       "      <td>TCGA-A2-A0D4-01A</td>\n",
       "      <td>TP</td>\n",
       "      <td>Primary_Solid_Tumor</td>\n",
       "      <td>TCGA-A2-A0D4-01A</td>\n",
       "      <td>...</td>\n",
       "      <td>-5.199338</td>\n",
       "      <td>-5.199338</td>\n",
       "      <td>0.939094</td>\n",
       "      <td>-5.199338</td>\n",
       "      <td>0.007527</td>\n",
       "      <td>0.995858</td>\n",
       "      <td>Cluster 1</td>\n",
       "      <td>767.0</td>\n",
       "      <td>1</td>\n",
       "      <td>Intermediate</td>\n",
       "    </tr>\n",
       "    <tr>\n",
       "      <th>4</th>\n",
       "      <td>4</td>\n",
       "      <td>4</td>\n",
       "      <td>65325f20961444e8e0ce4aad</td>\n",
       "      <td>A1R4</td>\n",
       "      <td>TCGA-E9-A1R4-01A-21R-A14D-07</td>\n",
       "      <td>TCGA-E9-A1R4</td>\n",
       "      <td>TCGA-E9-A1R4-01A</td>\n",
       "      <td>TP</td>\n",
       "      <td>Primary_Solid_Tumor</td>\n",
       "      <td>TCGA-E9-A1R4-01A</td>\n",
       "      <td>...</td>\n",
       "      <td>-5.199338</td>\n",
       "      <td>-5.199338</td>\n",
       "      <td>-1.239352</td>\n",
       "      <td>-5.199338</td>\n",
       "      <td>-1.700222</td>\n",
       "      <td>1.157061</td>\n",
       "      <td>Cluster 1</td>\n",
       "      <td>186.0</td>\n",
       "      <td>1</td>\n",
       "      <td>Low</td>\n",
       "    </tr>\n",
       "    <tr>\n",
       "      <th>12</th>\n",
       "      <td>12</td>\n",
       "      <td>12</td>\n",
       "      <td>65325f21961444e8e0ce4ab5</td>\n",
       "      <td>A0CD</td>\n",
       "      <td>TCGA-A7-A0CD-01A-11R-A00Z-07</td>\n",
       "      <td>TCGA-A7-A0CD</td>\n",
       "      <td>TCGA-A7-A0CD-01A</td>\n",
       "      <td>TP</td>\n",
       "      <td>Primary_Solid_Tumor</td>\n",
       "      <td>TCGA-A7-A0CD-01A</td>\n",
       "      <td>...</td>\n",
       "      <td>-5.199338</td>\n",
       "      <td>-5.199338</td>\n",
       "      <td>1.616206</td>\n",
       "      <td>-5.199338</td>\n",
       "      <td>-0.708752</td>\n",
       "      <td>-0.653377</td>\n",
       "      <td>Cluster 1</td>\n",
       "      <td>1165.0</td>\n",
       "      <td>1</td>\n",
       "      <td>Intermediate</td>\n",
       "    </tr>\n",
       "    <tr>\n",
       "      <th>16</th>\n",
       "      <td>16</td>\n",
       "      <td>16</td>\n",
       "      <td>65325f22961444e8e0ce4abb</td>\n",
       "      <td>A0CO</td>\n",
       "      <td>TCGA-A2-A0CO-01A-13R-A22K-07</td>\n",
       "      <td>TCGA-A2-A0CO</td>\n",
       "      <td>TCGA-A2-A0CO-01A</td>\n",
       "      <td>TP</td>\n",
       "      <td>Primary_Solid_Tumor</td>\n",
       "      <td>TCGA-A2-A0CO-01A</td>\n",
       "      <td>...</td>\n",
       "      <td>-5.199338</td>\n",
       "      <td>-5.199338</td>\n",
       "      <td>-0.393847</td>\n",
       "      <td>-5.199338</td>\n",
       "      <td>1.031509</td>\n",
       "      <td>-0.401995</td>\n",
       "      <td>Cluster 1</td>\n",
       "      <td>1468.0</td>\n",
       "      <td>0</td>\n",
       "      <td>Low</td>\n",
       "    </tr>\n",
       "    <tr>\n",
       "      <th>21</th>\n",
       "      <td>21</td>\n",
       "      <td>21</td>\n",
       "      <td>65325f23961444e8e0ce4ac1</td>\n",
       "      <td>A259</td>\n",
       "      <td>TCGA-A2-A259-01A-11R-A16F-07</td>\n",
       "      <td>TCGA-A2-A259</td>\n",
       "      <td>TCGA-A2-A259-01A</td>\n",
       "      <td>TP</td>\n",
       "      <td>Primary_Solid_Tumor</td>\n",
       "      <td>TCGA-A2-A259-01A</td>\n",
       "      <td>...</td>\n",
       "      <td>-5.199338</td>\n",
       "      <td>1.575613</td>\n",
       "      <td>-0.867368</td>\n",
       "      <td>-5.199338</td>\n",
       "      <td>0.380326</td>\n",
       "      <td>-0.979511</td>\n",
       "      <td>Cluster 1</td>\n",
       "      <td>1596.0</td>\n",
       "      <td>1</td>\n",
       "      <td>Low</td>\n",
       "    </tr>\n",
       "  </tbody>\n",
       "</table>\n",
       "<p>5 rows × 60752 columns</p>\n",
       "</div>"
      ],
      "text/plain": [
       "    Unnamed: 0.1  Unnamed: 0                     _id_x patientID  \\\n",
       "3              3           3  65325f1f961444e8e0ce4aac      A0D4   \n",
       "4              4           4  65325f20961444e8e0ce4aad      A1R4   \n",
       "12            12          12  65325f21961444e8e0ce4ab5      A0CD   \n",
       "16            16          16  65325f22961444e8e0ce4abb      A0CO   \n",
       "21            21          21  65325f23961444e8e0ce4ac1      A259   \n",
       "\n",
       "                         barcode       patient            sample  \\\n",
       "3   TCGA-A2-A0D4-01A-11R-A00Z-07  TCGA-A2-A0D4  TCGA-A2-A0D4-01A   \n",
       "4   TCGA-E9-A1R4-01A-21R-A14D-07  TCGA-E9-A1R4  TCGA-E9-A1R4-01A   \n",
       "12  TCGA-A7-A0CD-01A-11R-A00Z-07  TCGA-A7-A0CD  TCGA-A7-A0CD-01A   \n",
       "16  TCGA-A2-A0CO-01A-13R-A22K-07  TCGA-A2-A0CO  TCGA-A2-A0CO-01A   \n",
       "21  TCGA-A2-A259-01A-11R-A16F-07  TCGA-A2-A259  TCGA-A2-A259-01A   \n",
       "\n",
       "   shortLetterCode           definition sample_submitter_id  ...  \\\n",
       "3               TP  Primary_Solid_Tumor    TCGA-A2-A0D4-01A  ...   \n",
       "4               TP  Primary_Solid_Tumor    TCGA-E9-A1R4-01A  ...   \n",
       "12              TP  Primary_Solid_Tumor    TCGA-A7-A0CD-01A  ...   \n",
       "16              TP  Primary_Solid_Tumor    TCGA-A2-A0CO-01A  ...   \n",
       "21              TP  Primary_Solid_Tumor    TCGA-A2-A259-01A  ...   \n",
       "\n",
       "    ENSG00000288667.1 ENSG00000288669.1 ENSG00000288670.1  ENSG00000288671.1  \\\n",
       "3           -5.199338         -5.199338          0.939094          -5.199338   \n",
       "4           -5.199338         -5.199338         -1.239352          -5.199338   \n",
       "12          -5.199338         -5.199338          1.616206          -5.199338   \n",
       "16          -5.199338         -5.199338         -0.393847          -5.199338   \n",
       "21          -5.199338          1.575613         -0.867368          -5.199338   \n",
       "\n",
       "   ENSG00000288674.1  ENSG00000288675.1    Cluster event_time event_observed  \\\n",
       "3           0.007527           0.995858  Cluster 1      767.0              1   \n",
       "4          -1.700222           1.157061  Cluster 1      186.0              1   \n",
       "12         -0.708752          -0.653377  Cluster 1     1165.0              1   \n",
       "16          1.031509          -0.401995  Cluster 1     1468.0              0   \n",
       "21          0.380326          -0.979511  Cluster 1     1596.0              1   \n",
       "\n",
       "      BCL9_Group  \n",
       "3   Intermediate  \n",
       "4            Low  \n",
       "12  Intermediate  \n",
       "16           Low  \n",
       "21           Low  \n",
       "\n",
       "[5 rows x 60752 columns]"
      ]
     },
     "execution_count": 9,
     "metadata": {},
     "output_type": "execute_result"
    }
   ],
   "source": [
    "df_cluster_1.head()"
   ]
  },
  {
   "cell_type": "code",
   "execution_count": 10,
   "id": "4bfaae46-97af-49f9-b3c9-f9592e8df0ea",
   "metadata": {},
   "outputs": [],
   "source": [
    "df_cluster_1_bcl9_high = df_cluster_1[df_cluster_1['BCL9_Group'] == 'High']\n",
    "df_cluster_1_bcl9_low = df_cluster_1[df_cluster_1['BCL9_Group'] == 'Low']"
   ]
  },
  {
   "cell_type": "markdown",
   "id": "064d2a39-a4bd-496e-a697-56b08210b95b",
   "metadata": {},
   "source": [
    "#### Step 3: Kaplan-Meier Survival Estimates"
   ]
  },
  {
   "cell_type": "code",
   "execution_count": 11,
   "id": "faf6d3c6-e685-45a7-afa8-2423e7d53b9a",
   "metadata": {},
   "outputs": [
    {
     "data": {
      "text/plain": [
       "<lifelines.KaplanMeierFitter:\"KM_estimate\", fitted with 86 total observations, 10 right-censored observations>"
      ]
     },
     "execution_count": 11,
     "metadata": {},
     "output_type": "execute_result"
    }
   ],
   "source": [
    "from lifelines import KaplanMeierFitter\n",
    "\n",
    "# Create Kaplan-Meier objects\n",
    "kmf_high = KaplanMeierFitter()\n",
    "kmf_low = KaplanMeierFitter()\n",
    "\n",
    "# Fit data\n",
    "kmf_high.fit(durations=df_cluster_1_bcl9_high['event_time'], event_observed=df_cluster_1_bcl9_high['event_observed'])\n",
    "kmf_low.fit(durations=df_cluster_1_bcl9_low['event_time'], event_observed=df_cluster_1_bcl9_low['event_observed'])"
   ]
  },
  {
   "cell_type": "markdown",
   "id": "6ad78507-54aa-4da8-941e-1e2f464ddd97",
   "metadata": {},
   "source": [
    "#### Step 4: Plotting Kaplan-Meier Curves"
   ]
  },
  {
   "cell_type": "code",
   "execution_count": 12,
   "id": "7f8f4337-8a60-42a5-b0ca-305508a191f8",
   "metadata": {},
   "outputs": [
    {
     "data": {
      "image/png": "[encoded data removed]",
      "text/plain": [
       "<Figure size 432x288 with 1 Axes>"
      ]
     },
     "metadata": {
      "needs_background": "light"
     },
     "output_type": "display_data"
    }
   ],
   "source": [
    "import matplotlib.pyplot as plt\n",
    "\n",
    "kmf_high.plot(label='High BCL9 Expression')\n",
    "kmf_low.plot(label='Low BCL9 Expression')\n",
    "\n",
    "plt.title('Kaplan-Meier Survival Curve')\n",
    "plt.xlabel('Time')\n",
    "plt.ylabel('Survival Probability')\n",
    "plt.legend()\n",
    "\n",
    "plt.show()"
   ]
  },
  {
   "cell_type": "code",
   "execution_count": 13,
   "id": "4d5bfe6e-b9c7-4dd3-a77b-5740c91b345b",
   "metadata": {},
   "outputs": [
    {
     "name": "stdout",
     "output_type": "stream",
     "text": [
      "Median Survival Time - High BCL9 Expression: 769.0\n",
      "Median Survival Time - Low BCL9 Expression: 1004.0\n"
     ]
    }
   ],
   "source": [
    "median_survival_high = kmf_high.median_survival_time_\n",
    "median_survival_low = kmf_low.median_survival_time_\n",
    "print(f\"Median Survival Time - High BCL9 Expression: {median_survival_high}\")\n",
    "print(f\"Median Survival Time - Low BCL9 Expression: {median_survival_low}\")"
   ]
  },
  {
   "cell_type": "markdown",
   "id": "c150a1e7-ba78-4e59-8542-c2799be42150",
   "metadata": {},
   "source": [
    "#### Step 5: Log-Rank Test"
   ]
  },
  {
   "cell_type": "code",
   "execution_count": 14,
   "id": "394559e2-2027-4435-9885-3bf27ed0a4f1",
   "metadata": {},
   "outputs": [
    {
     "name": "stdout",
     "output_type": "stream",
     "text": [
      "   test_statistic         p  -log2(p)\n",
      "0        0.000052  0.994244  0.008328\n"
     ]
    }
   ],
   "source": [
    "from lifelines.statistics import logrank_test\n",
    "\n",
    "results = logrank_test(durations_A=df_cluster_1_bcl9_high['event_time'], durations_B=df_cluster_1_bcl9_low['event_time'],\n",
    "                       event_observed_A=df_cluster_1_bcl9_high['event_observed'], event_observed_B=df_cluster_1_bcl9_low['event_observed'])\n",
    "print(results.summary)"
   ]
  },
  {
   "cell_type": "markdown",
   "id": "6c543381-2466-4ebb-8991-8f701b637e59",
   "metadata": {},
   "source": [
    "### Approach 2: COX-PH Analysis"
   ]
  },
  {
   "cell_type": "markdown",
   "id": "1338bbf2-02e3-465c-bb3f-9a34831c920f",
   "metadata": {},
   "source": [
    "#### Step 1: Data Preparation"
   ]
  },
  {
   "cell_type": "code",
   "execution_count": 15,
   "id": "0fe98928-140f-4862-8415-8731ae9bbb17",
   "metadata": {},
   "outputs": [
    {
     "name": "stderr",
     "output_type": "stream",
     "text": [
      "<ipython-input-15-3aab95776438>:4: SettingWithCopyWarning: \n",
      "A value is trying to be set on a copy of a slice from a DataFrame.\n",
      "Try using .loc[row_indexer,col_indexer] = value instead\n",
      "\n",
      "See the caveats in the documentation: https://pandas.pydata.org/pandas-docs/stable/user_guide/indexing.html#returning-a-view-versus-a-copy\n",
      "  df_cluster_1['gender'] = label_encoder.fit_transform(df_cluster_1['gender'])\n",
      "<ipython-input-15-3aab95776438>:5: SettingWithCopyWarning: \n",
      "A value is trying to be set on a copy of a slice from a DataFrame.\n",
      "Try using .loc[row_indexer,col_indexer] = value instead\n",
      "\n",
      "See the caveats in the documentation: https://pandas.pydata.org/pandas-docs/stable/user_guide/indexing.html#returning-a-view-versus-a-copy\n",
      "  df_cluster_1['paper_pathologic_stage'] = label_encoder.fit_transform(df_cluster_1['paper_pathologic_stage'])\n",
      "<ipython-input-15-3aab95776438>:7: SettingWithCopyWarning: \n",
      "A value is trying to be set on a copy of a slice from a DataFrame.\n",
      "Try using .loc[row_indexer,col_indexer] = value instead\n",
      "\n",
      "See the caveats in the documentation: https://pandas.pydata.org/pandas-docs/stable/user_guide/indexing.html#returning-a-view-versus-a-copy\n",
      "  df_cluster_1['gender'] = label_encoder.fit_transform(df_cluster_1['gender'])\n",
      "<ipython-input-15-3aab95776438>:8: SettingWithCopyWarning: \n",
      "A value is trying to be set on a copy of a slice from a DataFrame.\n",
      "Try using .loc[row_indexer,col_indexer] = value instead\n",
      "\n",
      "See the caveats in the documentation: https://pandas.pydata.org/pandas-docs/stable/user_guide/indexing.html#returning-a-view-versus-a-copy\n",
      "  df_cluster_1['paper_pathologic_stage'] = label_encoder.fit_transform(df_cluster_1['paper_pathologic_stage'])\n"
     ]
    }
   ],
   "source": [
    "from sklearn.preprocessing import LabelEncoder\n",
    "\n",
    "label_encoder = LabelEncoder()\n",
    "df_cluster_1['gender'] = label_encoder.fit_transform(df_cluster_1['gender'])\n",
    "df_cluster_1['paper_pathologic_stage'] = label_encoder.fit_transform(df_cluster_1['paper_pathologic_stage'])"
   ]
  },
  {
   "cell_type": "code",
   "execution_count": 16,
   "id": "7a447864-e175-41aa-b9ed-f9ec41412b79",
   "metadata": {},
   "outputs": [],
   "source": [
    "#covariates = ['gender', 'paper_pathologic_stage', 'age_at_diagnosis']\n",
    "covariates = ['paper_pathologic_stage', 'age_at_diagnosis']\n",
    "df = df_cluster_1[covariates + ['event_time', 'event_observed', 'ENSG00000116128.11']]"
   ]
  },
  {
   "cell_type": "code",
   "execution_count": 17,
   "id": "298b8977-e8f3-4097-ae6d-bba386cd22d7",
   "metadata": {},
   "outputs": [
    {
     "name": "stdout",
     "output_type": "stream",
     "text": [
      "gender                    0\n",
      "paper_pathologic_stage    0\n",
      "age_at_diagnosis          4\n",
      "event_time                0\n",
      "event_observed            0\n",
      "ENSG00000116128.11        0\n",
      "dtype: int64\n"
     ]
    }
   ],
   "source": [
    "# Check for missing values in each column\n",
    "print(df.isnull().sum())"
   ]
  },
  {
   "cell_type": "code",
   "execution_count": 18,
   "id": "6815f323-f853-4820-a7f4-4f4fcd729f22",
   "metadata": {},
   "outputs": [],
   "source": [
    "# Drop rows with any missing values across specified columns\n",
    "df = df.dropna(subset=covariates + ['event_time', 'event_observed', 'ENSG00000116128.11'])"
   ]
  },
  {
   "cell_type": "markdown",
   "id": "dd9a7d7d-3ba7-423b-a787-ba4e3fe82f00",
   "metadata": {},
   "source": [
    "#### Step 2: Model Building"
   ]
  },
  {
   "cell_type": "code",
   "execution_count": 19,
   "id": "3f35f3f3-91be-4718-839f-3e13595faa16",
   "metadata": {},
   "outputs": [
    {
     "name": "stdout",
     "output_type": "stream",
     "text": [
      "Cox Proportional Hazards Model Summary:\n"
     ]
    },
    {
     "data": {
      "text/html": [
       "<div>\n",
       "<style scoped>\n",
       "    .dataframe tbody tr th:only-of-type {\n",
       "        vertical-align: middle;\n",
       "    }\n",
       "\n",
       "    .dataframe tbody tr th {\n",
       "        vertical-align: top;\n",
       "    }\n",
       "\n",
       "    .dataframe thead th {\n",
       "        text-align: right;\n",
       "    }\n",
       "</style>\n",
       "<table border=\"1\" class=\"dataframe\">\n",
       "  <tbody>\n",
       "    <tr>\n",
       "      <th>model</th>\n",
       "      <td>lifelines.CoxPHFitter</td>\n",
       "    </tr>\n",
       "    <tr>\n",
       "      <th>duration col</th>\n",
       "      <td>'event_time'</td>\n",
       "    </tr>\n",
       "    <tr>\n",
       "      <th>event col</th>\n",
       "      <td>'event_observed'</td>\n",
       "    </tr>\n",
       "    <tr>\n",
       "      <th>baseline estimation</th>\n",
       "      <td>breslow</td>\n",
       "    </tr>\n",
       "    <tr>\n",
       "      <th>number of observations</th>\n",
       "      <td>338</td>\n",
       "    </tr>\n",
       "    <tr>\n",
       "      <th>number of events observed</th>\n",
       "      <td>300</td>\n",
       "    </tr>\n",
       "    <tr>\n",
       "      <th>partial log-likelihood</th>\n",
       "      <td>-1465.27</td>\n",
       "    </tr>\n",
       "    <tr>\n",
       "      <th>time fit was run</th>\n",
       "      <td>2024-05-05 19:23:43 UTC</td>\n",
       "    </tr>\n",
       "  </tbody>\n",
       "</table>\n",
       "</div><table border=\"1\" class=\"dataframe\">\n",
       "  <thead>\n",
       "    <tr style=\"text-align: right;\">\n",
       "      <th style=\"min-width: 12px;\"></th>\n",
       "      <th style=\"min-width: 12px;\">coef</th>\n",
       "      <th style=\"min-width: 12px;\">exp(coef)</th>\n",
       "      <th style=\"min-width: 12px;\">se(coef)</th>\n",
       "      <th style=\"min-width: 12px;\">coef lower 95%</th>\n",
       "      <th style=\"min-width: 12px;\">coef upper 95%</th>\n",
       "      <th style=\"min-width: 12px;\">exp(coef) lower 95%</th>\n",
       "      <th style=\"min-width: 12px;\">exp(coef) upper 95%</th>\n",
       "      <th style=\"min-width: 12px;\">cmp to</th>\n",
       "      <th style=\"min-width: 12px;\">z</th>\n",
       "      <th style=\"min-width: 12px;\">p</th>\n",
       "      <th style=\"min-width: 12px;\">-log2(p)</th>\n",
       "    </tr>\n",
       "  </thead>\n",
       "  <tbody>\n",
       "    <tr>\n",
       "      <th>ENSG00000116128.11</th>\n",
       "      <td>-0.01</td>\n",
       "      <td>0.99</td>\n",
       "      <td>0.07</td>\n",
       "      <td>-0.15</td>\n",
       "      <td>0.14</td>\n",
       "      <td>0.86</td>\n",
       "      <td>1.15</td>\n",
       "      <td>0.00</td>\n",
       "      <td>-0.12</td>\n",
       "      <td>0.90</td>\n",
       "      <td>0.15</td>\n",
       "    </tr>\n",
       "    <tr>\n",
       "      <th>gender</th>\n",
       "      <td>0.61</td>\n",
       "      <td>1.84</td>\n",
       "      <td>0.54</td>\n",
       "      <td>-0.45</td>\n",
       "      <td>1.67</td>\n",
       "      <td>0.64</td>\n",
       "      <td>5.31</td>\n",
       "      <td>0.00</td>\n",
       "      <td>1.12</td>\n",
       "      <td>0.26</td>\n",
       "      <td>1.93</td>\n",
       "    </tr>\n",
       "    <tr>\n",
       "      <th>paper_pathologic_stage</th>\n",
       "      <td>-0.11</td>\n",
       "      <td>0.90</td>\n",
       "      <td>0.07</td>\n",
       "      <td>-0.24</td>\n",
       "      <td>0.03</td>\n",
       "      <td>0.79</td>\n",
       "      <td>1.03</td>\n",
       "      <td>0.00</td>\n",
       "      <td>-1.55</td>\n",
       "      <td>0.12</td>\n",
       "      <td>3.05</td>\n",
       "    </tr>\n",
       "    <tr>\n",
       "      <th>age_at_diagnosis</th>\n",
       "      <td>0.00</td>\n",
       "      <td>1.00</td>\n",
       "      <td>0.00</td>\n",
       "      <td>-0.00</td>\n",
       "      <td>0.00</td>\n",
       "      <td>1.00</td>\n",
       "      <td>1.00</td>\n",
       "      <td>0.00</td>\n",
       "      <td>1.10</td>\n",
       "      <td>0.27</td>\n",
       "      <td>1.87</td>\n",
       "    </tr>\n",
       "  </tbody>\n",
       "</table><br><div>\n",
       "<style scoped>\n",
       "    .dataframe tbody tr th:only-of-type {\n",
       "        vertical-align: middle;\n",
       "    }\n",
       "\n",
       "    .dataframe tbody tr th {\n",
       "        vertical-align: top;\n",
       "    }\n",
       "\n",
       "    .dataframe thead th {\n",
       "        text-align: right;\n",
       "    }\n",
       "</style>\n",
       "<table border=\"1\" class=\"dataframe\">\n",
       "  <tbody>\n",
       "    <tr>\n",
       "      <th>Concordance</th>\n",
       "      <td>0.53</td>\n",
       "    </tr>\n",
       "    <tr>\n",
       "      <th>Partial AIC</th>\n",
       "      <td>2938.54</td>\n",
       "    </tr>\n",
       "    <tr>\n",
       "      <th>log-likelihood ratio test</th>\n",
       "      <td>4.55 on 4 df</td>\n",
       "    </tr>\n",
       "    <tr>\n",
       "      <th>-log2(p) of ll-ratio test</th>\n",
       "      <td>1.57</td>\n",
       "    </tr>\n",
       "  </tbody>\n",
       "</table>\n",
       "</div>"
      ],
      "text/latex": [
       "\\begin{tabular}{lrrrrrrrrrrr}\n",
       " & coef & exp(coef) & se(coef) & coef lower 95% & coef upper 95% & exp(coef) lower 95% & exp(coef) upper 95% & cmp to & z & p & -log2(p) \\\\\n",
       "covariate &  &  &  &  &  &  &  &  &  &  &  \\\\\n",
       "ENSG00000116128.11 & -0.01 & 0.99 & 0.07 & -0.15 & 0.14 & 0.86 & 1.15 & 0.00 & -0.12 & 0.90 & 0.15 \\\\\n",
       "gender & 0.61 & 1.84 & 0.54 & -0.45 & 1.67 & 0.64 & 5.31 & 0.00 & 1.12 & 0.26 & 1.93 \\\\\n",
       "paper_pathologic_stage & -0.11 & 0.90 & 0.07 & -0.24 & 0.03 & 0.79 & 1.03 & 0.00 & -1.55 & 0.12 & 3.05 \\\\\n",
       "age_at_diagnosis & 0.00 & 1.00 & 0.00 & -0.00 & 0.00 & 1.00 & 1.00 & 0.00 & 1.10 & 0.27 & 1.87 \\\\\n",
       "\\end{tabular}\n"
      ],
      "text/plain": [
       "<lifelines.CoxPHFitter: fitted with 338 total observations, 38 right-censored observations>\n",
       "             duration col = 'event_time'\n",
       "                event col = 'event_observed'\n",
       "      baseline estimation = breslow\n",
       "   number of observations = 338\n",
       "number of events observed = 300\n",
       "   partial log-likelihood = -1465.27\n",
       "         time fit was run = 2024-05-05 19:23:43 UTC\n",
       "\n",
       "---\n",
       "                         coef  exp(coef)   se(coef)   coef lower 95%   coef upper 95%  exp(coef) lower 95%  exp(coef) upper 95%\n",
       "covariate                                                                                                                      \n",
       "ENSG00000116128.11      -0.01       0.99       0.07            -0.15             0.14                 0.86                 1.15\n",
       "gender                   0.61       1.84       0.54            -0.45             1.67                 0.64                 5.31\n",
       "paper_pathologic_stage  -0.11       0.90       0.07            -0.24             0.03                 0.79                 1.03\n",
       "age_at_diagnosis         0.00       1.00       0.00            -0.00             0.00                 1.00                 1.00\n",
       "\n",
       "                         cmp to     z    p   -log2(p)\n",
       "covariate                                            \n",
       "ENSG00000116128.11         0.00 -0.12 0.90       0.15\n",
       "gender                     0.00  1.12 0.26       1.93\n",
       "paper_pathologic_stage     0.00 -1.55 0.12       3.05\n",
       "age_at_diagnosis           0.00  1.10 0.27       1.87\n",
       "---\n",
       "Concordance = 0.53\n",
       "Partial AIC = 2938.54\n",
       "log-likelihood ratio test = 4.55 on 4 df\n",
       "-log2(p) of ll-ratio test = 1.57"
      ]
     },
     "metadata": {},
     "output_type": "display_data"
    }
   ],
   "source": [
    "from lifelines import CoxPHFitter\n",
    "\n",
    "cph = CoxPHFitter()\n",
    "\n",
    "\n",
    "cph.fit(df, duration_col='event_time', event_col='event_observed', formula='ENSG00000116128.11 + gender + paper_pathologic_stage + age_at_diagnosis')\n",
    "\n",
    "print(\"Cox Proportional Hazards Model Summary:\")\n",
    "cph.print_summary()\n"
   ]
  },
  {
   "cell_type": "code",
   "execution_count": 20,
   "id": "0144eb0d-9eea-48b9-87f3-4f3849ab491e",
   "metadata": {},
   "outputs": [
    {
     "data": {
      "text/plain": [
       "<Axes: xlabel='log(HR) (95% CI)'>"
      ]
     },
     "execution_count": 20,
     "metadata": {},
     "output_type": "execute_result"
    },
    {
     "data": {
      "image/png": "[encoded data removed]",
      "text/plain": [
       "<Figure size 432x288 with 1 Axes>"
      ]
     },
     "metadata": {
      "needs_background": "light"
     },
     "output_type": "display_data"
    }
   ],
   "source": [
    "cph.plot()"
   ]
  }
 ],
 "metadata": {
  "kernelspec": {
   "display_name": "Conda",
   "language": "python",
   "name": "python3"
  },
  "language_info": {
   "codemirror_mode": {
    "name": "ipython",
    "version": 3
   },
   "file_extension": ".py",
   "mimetype": "text/x-python",
   "name": "python",
   "nbconvert_exporter": "python",
   "pygments_lexer": "ipython3",
   "version": "3.10.8"
  }
 },
 "nbformat": 4,
 "nbformat_minor": 5
}
