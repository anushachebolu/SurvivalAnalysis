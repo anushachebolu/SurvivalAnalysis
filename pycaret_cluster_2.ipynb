{
 "cells": [
  {
   "cell_type": "markdown",
   "id": "ca55c623-c9a2-404f-a363-441e7bc28a5a",
   "metadata": {},
   "source": [
    "### APPROACH 1: Kaplan-Meier and Log-Rank Test"
   ]
  },
  {
   "cell_type": "markdown",
   "id": "37a63573-479f-4d33-abfe-579bd130923e",
   "metadata": {},
   "source": [
    "#### Step 1: Data Preparation"
   ]
  },
  {
   "cell_type": "code",
   "execution_count": 1,
   "id": "716879e5-c9d0-4cfb-ae38-1f3524b603fc",
   "metadata": {},
   "outputs": [
    {
     "name": "stderr",
     "output_type": "stream",
     "text": [
      "<ipython-input-1-31be57041f36>:2: DtypeWarning: Columns (18,62) have mixed types. Specify dtype option on import or set low_memory=False.\n",
      "  df_tcga_rna_seq_clinical = pd.read_csv('../Clustered DF.csv')\n"
     ]
    }
   ],
   "source": [
    "import pandas as pd\n",
    "df_tcga_rna_seq_clinical = pd.read_csv('../Clustered DF.csv')"
   ]
  },
  {
   "cell_type": "code",
   "execution_count": 2,
   "id": "67df877c-0adb-4cf1-b8ee-3eee57aa88a8",
   "metadata": {},
   "outputs": [],
   "source": [
    "df_cluster_0 = df_tcga_rna_seq_clinical[df_tcga_rna_seq_clinical['Cluster'] == 'Cluster 0']\n",
    "df_cluster_1 = df_tcga_rna_seq_clinical[df_tcga_rna_seq_clinical['Cluster'] == 'Cluster 1']\n",
    "df_cluster_2 = df_tcga_rna_seq_clinical[df_tcga_rna_seq_clinical['Cluster'] == 'Cluster 2']\n",
    "df_cluster_3 = df_tcga_rna_seq_clinical[df_tcga_rna_seq_clinical['Cluster'] == 'Cluster 3']"
   ]
  },
  {
   "cell_type": "code",
   "execution_count": 3,
   "id": "54cf100f-67e4-4725-ab3b-25024ac5f37e",
   "metadata": {},
   "outputs": [
    {
     "data": {
      "text/plain": [
       "(245, 60749)"
      ]
     },
     "execution_count": 3,
     "metadata": {},
     "output_type": "execute_result"
    }
   ],
   "source": [
    "df_cluster_0.shape"
   ]
  },
  {
   "cell_type": "code",
   "execution_count": 4,
   "id": "f237129e-8d21-45ce-96c4-ee68dcd7f484",
   "metadata": {},
   "outputs": [
    {
     "data": {
      "text/plain": [
       "(342, 60749)"
      ]
     },
     "execution_count": 4,
     "metadata": {},
     "output_type": "execute_result"
    }
   ],
   "source": [
    "df_cluster_1.shape"
   ]
  },
  {
   "cell_type": "code",
   "execution_count": 5,
   "id": "fec969cd-5782-4052-8009-e904d55aedc0",
   "metadata": {
    "scrolled": true
   },
   "outputs": [
    {
     "data": {
      "text/plain": [
       "(177, 60749)"
      ]
     },
     "execution_count": 5,
     "metadata": {},
     "output_type": "execute_result"
    }
   ],
   "source": [
    "df_cluster_2.shape"
   ]
  },
  {
   "cell_type": "code",
   "execution_count": 6,
   "id": "007d4c6a-f99e-4c76-b8d1-645c93d4f296",
   "metadata": {},
   "outputs": [
    {
     "data": {
      "text/plain": [
       "(330, 60749)"
      ]
     },
     "execution_count": 6,
     "metadata": {},
     "output_type": "execute_result"
    }
   ],
   "source": [
    "df_cluster_3.shape"
   ]
  },
  {
   "cell_type": "code",
   "execution_count": 7,
   "id": "dd745b53-8bed-4fea-a323-2001e7bc3a3c",
   "metadata": {},
   "outputs": [
    {
     "name": "stderr",
     "output_type": "stream",
     "text": [
      "<ipython-input-7-cec7f57017b8>:1: SettingWithCopyWarning: \n",
      "A value is trying to be set on a copy of a slice from a DataFrame.\n",
      "Try using .loc[row_indexer,col_indexer] = value instead\n",
      "\n",
      "See the caveats in the documentation: https://pandas.pydata.org/pandas-docs/stable/user_guide/indexing.html#returning-a-view-versus-a-copy\n",
      "  df_cluster_2['event_time'] = df_cluster_2.apply(\n",
      "<ipython-input-7-cec7f57017b8>:5: SettingWithCopyWarning: \n",
      "A value is trying to be set on a copy of a slice from a DataFrame.\n",
      "Try using .loc[row_indexer,col_indexer] = value instead\n",
      "\n",
      "See the caveats in the documentation: https://pandas.pydata.org/pandas-docs/stable/user_guide/indexing.html#returning-a-view-versus-a-copy\n",
      "  df_cluster_2['event_observed'] = df_cluster_2['vital_status'].apply(lambda x: 0 if x == 'Dead' else 1)\n"
     ]
    }
   ],
   "source": [
    "df_cluster_2['event_time'] = df_cluster_2.apply(\n",
    "    lambda row: row['days_to_last_follow_up'] if row['vital_status'] == 'Alive' else row['days_to_death'],\n",
    "    axis=1\n",
    ")\n",
    "df_cluster_2['event_observed'] = df_cluster_2['vital_status'].apply(lambda x: 0 if x == 'Dead' else 1)"
   ]
  },
  {
   "cell_type": "markdown",
   "id": "cfdebcc8-42d4-4d4f-a4c8-4780a7e7201b",
   "metadata": {},
   "source": [
    "#### Step 2: Categorizing BCL9 Expression"
   ]
  },
  {
   "cell_type": "code",
   "execution_count": 8,
   "id": "25357113-59ab-4aa5-a7ae-8c0b21e8a057",
   "metadata": {},
   "outputs": [
    {
     "name": "stderr",
     "output_type": "stream",
     "text": [
      "<ipython-input-8-43afdafbf554>:5: SettingWithCopyWarning: \n",
      "A value is trying to be set on a copy of a slice from a DataFrame.\n",
      "Try using .loc[row_indexer,col_indexer] = value instead\n",
      "\n",
      "See the caveats in the documentation: https://pandas.pydata.org/pandas-docs/stable/user_guide/indexing.html#returning-a-view-versus-a-copy\n",
      "  df_cluster_2['BCL9_Group'] = 'Intermediate'  # Default to Intermediate\n"
     ]
    }
   ],
   "source": [
    "Q1 = df_cluster_2['ENSG00000116128.11'].quantile(0.25)\n",
    "Q3 = df_cluster_2['ENSG00000116128.11'].quantile(0.75)\n",
    "\n",
    "# Classify patients based on BCL9 expression levels\n",
    "df_cluster_2['BCL9_Group'] = 'Intermediate'  # Default to Intermediate\n",
    "df_cluster_2.loc[df_cluster_2['ENSG00000116128.11'] <= Q1, 'BCL9_Group'] = 'Low'\n",
    "df_cluster_2.loc[df_cluster_2['ENSG00000116128.11'] >= Q3, 'BCL9_Group'] = 'High'"
   ]
  },
  {
   "cell_type": "code",
   "execution_count": 9,
   "id": "0fc17f5e-0d1a-4de8-86fc-12e14cc62300",
   "metadata": {},
   "outputs": [
    {
     "data": {
      "text/html": [
       "<div>\n",
       "<style scoped>\n",
       "    .dataframe tbody tr th:only-of-type {\n",
       "        vertical-align: middle;\n",
       "    }\n",
       "\n",
       "    .dataframe tbody tr th {\n",
       "        vertical-align: top;\n",
       "    }\n",
       "\n",
       "    .dataframe thead th {\n",
       "        text-align: right;\n",
       "    }\n",
       "</style>\n",
       "<table border=\"1\" class=\"dataframe\">\n",
       "  <thead>\n",
       "    <tr style=\"text-align: right;\">\n",
       "      <th></th>\n",
       "      <th>Unnamed: 0.1</th>\n",
       "      <th>Unnamed: 0</th>\n",
       "      <th>_id_x</th>\n",
       "      <th>patientID</th>\n",
       "      <th>barcode</th>\n",
       "      <th>patient</th>\n",
       "      <th>sample</th>\n",
       "      <th>shortLetterCode</th>\n",
       "      <th>definition</th>\n",
       "      <th>sample_submitter_id</th>\n",
       "      <th>...</th>\n",
       "      <th>ENSG00000288667.1</th>\n",
       "      <th>ENSG00000288669.1</th>\n",
       "      <th>ENSG00000288670.1</th>\n",
       "      <th>ENSG00000288671.1</th>\n",
       "      <th>ENSG00000288674.1</th>\n",
       "      <th>ENSG00000288675.1</th>\n",
       "      <th>Cluster</th>\n",
       "      <th>event_time</th>\n",
       "      <th>event_observed</th>\n",
       "      <th>BCL9_Group</th>\n",
       "    </tr>\n",
       "  </thead>\n",
       "  <tbody>\n",
       "    <tr>\n",
       "      <th>2</th>\n",
       "      <td>2</td>\n",
       "      <td>2</td>\n",
       "      <td>65325f1f961444e8e0ce4aab</td>\n",
       "      <td>A28O</td>\n",
       "      <td>TCGA-BH-A28O-01A-11R-A22K-07</td>\n",
       "      <td>TCGA-BH-A28O</td>\n",
       "      <td>TCGA-BH-A28O-01A</td>\n",
       "      <td>TP</td>\n",
       "      <td>Primary_Solid_Tumor</td>\n",
       "      <td>TCGA-BH-A28O-01A</td>\n",
       "      <td>...</td>\n",
       "      <td>-5.199338</td>\n",
       "      <td>-5.199338</td>\n",
       "      <td>-0.471004</td>\n",
       "      <td>-5.199338</td>\n",
       "      <td>0.195700</td>\n",
       "      <td>0.699108</td>\n",
       "      <td>Cluster 2</td>\n",
       "      <td>1120.0</td>\n",
       "      <td>1</td>\n",
       "      <td>Intermediate</td>\n",
       "    </tr>\n",
       "    <tr>\n",
       "      <th>14</th>\n",
       "      <td>14</td>\n",
       "      <td>14</td>\n",
       "      <td>65325f22961444e8e0ce4ab8</td>\n",
       "      <td>A134</td>\n",
       "      <td>TCGA-C8-A134-01A-11R-A115-07</td>\n",
       "      <td>TCGA-C8-A134</td>\n",
       "      <td>TCGA-C8-A134-01A</td>\n",
       "      <td>TP</td>\n",
       "      <td>Solid</td>\n",
       "      <td>TCGA-C8-A134-01A</td>\n",
       "      <td>...</td>\n",
       "      <td>-5.199338</td>\n",
       "      <td>-5.199338</td>\n",
       "      <td>1.501911</td>\n",
       "      <td>-5.199338</td>\n",
       "      <td>0.380326</td>\n",
       "      <td>2.033104</td>\n",
       "      <td>Cluster 2</td>\n",
       "      <td>383.0</td>\n",
       "      <td>1</td>\n",
       "      <td>High</td>\n",
       "    </tr>\n",
       "    <tr>\n",
       "      <th>19</th>\n",
       "      <td>19</td>\n",
       "      <td>19</td>\n",
       "      <td>65325f23961444e8e0ce4abf</td>\n",
       "      <td>A0DA</td>\n",
       "      <td>TCGA-A7-A0DA-01A-31R-A115-07</td>\n",
       "      <td>TCGA-A7-A0DA</td>\n",
       "      <td>TCGA-A7-A0DA-01A</td>\n",
       "      <td>TP</td>\n",
       "      <td>Normal</td>\n",
       "      <td>TCGA-A7-A0DA-01A</td>\n",
       "      <td>...</td>\n",
       "      <td>-5.199338</td>\n",
       "      <td>-5.199338</td>\n",
       "      <td>-0.633317</td>\n",
       "      <td>-5.199338</td>\n",
       "      <td>-1.315958</td>\n",
       "      <td>0.143512</td>\n",
       "      <td>Cluster 2</td>\n",
       "      <td>1085.0</td>\n",
       "      <td>1</td>\n",
       "      <td>Intermediate</td>\n",
       "    </tr>\n",
       "    <tr>\n",
       "      <th>24</th>\n",
       "      <td>24</td>\n",
       "      <td>24</td>\n",
       "      <td>65325f24961444e8e0ce4ac4</td>\n",
       "      <td>A7U7</td>\n",
       "      <td>TCGA-AQ-A7U7-01A-22R-A352-07</td>\n",
       "      <td>TCGA-AQ-A7U7</td>\n",
       "      <td>TCGA-AQ-A7U7-01A</td>\n",
       "      <td>TP</td>\n",
       "      <td>Normal</td>\n",
       "      <td>TCGA-AQ-A7U7-01A</td>\n",
       "      <td>...</td>\n",
       "      <td>1.471555</td>\n",
       "      <td>-5.199338</td>\n",
       "      <td>-0.539431</td>\n",
       "      <td>-5.199338</td>\n",
       "      <td>0.532190</td>\n",
       "      <td>-0.179102</td>\n",
       "      <td>Cluster 2</td>\n",
       "      <td>584.0</td>\n",
       "      <td>0</td>\n",
       "      <td>High</td>\n",
       "    </tr>\n",
       "    <tr>\n",
       "      <th>51</th>\n",
       "      <td>51</td>\n",
       "      <td>51</td>\n",
       "      <td>65325f29961444e8e0ce4ae1</td>\n",
       "      <td>A26G</td>\n",
       "      <td>TCGA-A7-A26G-01A-21R-A169-07</td>\n",
       "      <td>TCGA-A7-A26G</td>\n",
       "      <td>TCGA-A7-A26G-01A</td>\n",
       "      <td>TP</td>\n",
       "      <td>Primary_Solid_Tumor</td>\n",
       "      <td>TCGA-A7-A26G-01A</td>\n",
       "      <td>...</td>\n",
       "      <td>-5.199338</td>\n",
       "      <td>-5.199338</td>\n",
       "      <td>-1.185470</td>\n",
       "      <td>-5.199338</td>\n",
       "      <td>-1.008294</td>\n",
       "      <td>0.143512</td>\n",
       "      <td>Cluster 2</td>\n",
       "      <td>722.0</td>\n",
       "      <td>1</td>\n",
       "      <td>High</td>\n",
       "    </tr>\n",
       "  </tbody>\n",
       "</table>\n",
       "<p>5 rows × 60752 columns</p>\n",
       "</div>"
      ],
      "text/plain": [
       "    Unnamed: 0.1  Unnamed: 0                     _id_x patientID  \\\n",
       "2              2           2  65325f1f961444e8e0ce4aab      A28O   \n",
       "14            14          14  65325f22961444e8e0ce4ab8      A134   \n",
       "19            19          19  65325f23961444e8e0ce4abf      A0DA   \n",
       "24            24          24  65325f24961444e8e0ce4ac4      A7U7   \n",
       "51            51          51  65325f29961444e8e0ce4ae1      A26G   \n",
       "\n",
       "                         barcode       patient            sample  \\\n",
       "2   TCGA-BH-A28O-01A-11R-A22K-07  TCGA-BH-A28O  TCGA-BH-A28O-01A   \n",
       "14  TCGA-C8-A134-01A-11R-A115-07  TCGA-C8-A134  TCGA-C8-A134-01A   \n",
       "19  TCGA-A7-A0DA-01A-31R-A115-07  TCGA-A7-A0DA  TCGA-A7-A0DA-01A   \n",
       "24  TCGA-AQ-A7U7-01A-22R-A352-07  TCGA-AQ-A7U7  TCGA-AQ-A7U7-01A   \n",
       "51  TCGA-A7-A26G-01A-21R-A169-07  TCGA-A7-A26G  TCGA-A7-A26G-01A   \n",
       "\n",
       "   shortLetterCode           definition sample_submitter_id  ...  \\\n",
       "2               TP  Primary_Solid_Tumor    TCGA-BH-A28O-01A  ...   \n",
       "14              TP                Solid    TCGA-C8-A134-01A  ...   \n",
       "19              TP               Normal    TCGA-A7-A0DA-01A  ...   \n",
       "24              TP               Normal    TCGA-AQ-A7U7-01A  ...   \n",
       "51              TP  Primary_Solid_Tumor    TCGA-A7-A26G-01A  ...   \n",
       "\n",
       "    ENSG00000288667.1 ENSG00000288669.1 ENSG00000288670.1  ENSG00000288671.1  \\\n",
       "2           -5.199338         -5.199338         -0.471004          -5.199338   \n",
       "14          -5.199338         -5.199338          1.501911          -5.199338   \n",
       "19          -5.199338         -5.199338         -0.633317          -5.199338   \n",
       "24           1.471555         -5.199338         -0.539431          -5.199338   \n",
       "51          -5.199338         -5.199338         -1.185470          -5.199338   \n",
       "\n",
       "   ENSG00000288674.1  ENSG00000288675.1    Cluster event_time event_observed  \\\n",
       "2           0.195700           0.699108  Cluster 2     1120.0              1   \n",
       "14          0.380326           2.033104  Cluster 2      383.0              1   \n",
       "19         -1.315958           0.143512  Cluster 2     1085.0              1   \n",
       "24          0.532190          -0.179102  Cluster 2      584.0              0   \n",
       "51         -1.008294           0.143512  Cluster 2      722.0              1   \n",
       "\n",
       "      BCL9_Group  \n",
       "2   Intermediate  \n",
       "14          High  \n",
       "19  Intermediate  \n",
       "24          High  \n",
       "51          High  \n",
       "\n",
       "[5 rows x 60752 columns]"
      ]
     },
     "execution_count": 9,
     "metadata": {},
     "output_type": "execute_result"
    }
   ],
   "source": [
    "df_cluster_2.head()"
   ]
  },
  {
   "cell_type": "code",
   "execution_count": 10,
   "id": "4bfaae46-97af-49f9-b3c9-f9592e8df0ea",
   "metadata": {},
   "outputs": [],
   "source": [
    "df_cluster_2_bcl9_high = df_cluster_2[df_cluster_2['BCL9_Group'] == 'High']\n",
    "df_cluster_2_bcl9_low = df_cluster_2[df_cluster_2['BCL9_Group'] == 'Low']"
   ]
  },
  {
   "cell_type": "markdown",
   "id": "064d2a39-a4bd-496e-a697-56b08210b95b",
   "metadata": {},
   "source": [
    "#### Step 3: Kaplan-Meier Survival Estimates"
   ]
  },
  {
   "cell_type": "code",
   "execution_count": 11,
   "id": "ebee59b0-09d2-492e-870e-946b1b73bcdd",
   "metadata": {},
   "outputs": [],
   "source": [
    "df_cluster_2_bcl9_low = df_cluster_2_bcl9_low.dropna(subset=['event_time'])"
   ]
  },
  {
   "cell_type": "code",
   "execution_count": 12,
   "id": "faf6d3c6-e685-45a7-afa8-2423e7d53b9a",
   "metadata": {},
   "outputs": [
    {
     "data": {
      "text/plain": [
       "<lifelines.KaplanMeierFitter:\"KM_estimate\", fitted with 44 total observations, 12 right-censored observations>"
      ]
     },
     "execution_count": 12,
     "metadata": {},
     "output_type": "execute_result"
    }
   ],
   "source": [
    "from lifelines import KaplanMeierFitter\n",
    "\n",
    "# Create Kaplan-Meier objects\n",
    "kmf_high = KaplanMeierFitter()\n",
    "kmf_low = KaplanMeierFitter()\n",
    "\n",
    "# Fit data\n",
    "kmf_high.fit(durations=df_cluster_2_bcl9_high['event_time'], event_observed=df_cluster_2_bcl9_high['event_observed'])\n",
    "kmf_low.fit(durations=df_cluster_2_bcl9_low['event_time'], event_observed=df_cluster_2_bcl9_low['event_observed'])"
   ]
  },
  {
   "cell_type": "markdown",
   "id": "6ad78507-54aa-4da8-941e-1e2f464ddd97",
   "metadata": {},
   "source": [
    "#### Step 4: Plotting Kaplan-Meier Curves"
   ]
  },
  {
   "cell_type": "code",
   "execution_count": 13,
   "id": "7f8f4337-8a60-42a5-b0ca-305508a191f8",
   "metadata": {},
   "outputs": [
    {
     "data": {
      "image/png": "[encoded data removed]",
      "text/plain": [
       "<Figure size 432x288 with 1 Axes>"
      ]
     },
     "metadata": {
      "needs_background": "light"
     },
     "output_type": "display_data"
    }
   ],
   "source": [
    "import matplotlib.pyplot as plt\n",
    "\n",
    "kmf_high.plot(label='High BCL9 Expression')\n",
    "kmf_low.plot(label='Low BCL9 Expression')\n",
    "\n",
    "plt.title('Kaplan-Meier Survival Curve')\n",
    "plt.xlabel('Time')\n",
    "plt.ylabel('Survival Probability')\n",
    "plt.legend()\n",
    "\n",
    "plt.show()"
   ]
  },
  {
   "cell_type": "code",
   "execution_count": 14,
   "id": "4d5bfe6e-b9c7-4dd3-a77b-5740c91b345b",
   "metadata": {},
   "outputs": [
    {
     "name": "stdout",
     "output_type": "stream",
     "text": [
      "Median Survival Time - High BCL9 Expression: 1034.0\n",
      "Median Survival Time - Low BCL9 Expression: 1417.0\n"
     ]
    }
   ],
   "source": [
    "median_survival_high = kmf_high.median_survival_time_\n",
    "median_survival_low = kmf_low.median_survival_time_\n",
    "print(f\"Median Survival Time - High BCL9 Expression: {median_survival_high}\")\n",
    "print(f\"Median Survival Time - Low BCL9 Expression: {median_survival_low}\")"
   ]
  },
  {
   "cell_type": "markdown",
   "id": "c150a1e7-ba78-4e59-8542-c2799be42150",
   "metadata": {},
   "source": [
    "#### Step 5: Log-Rank Test"
   ]
  },
  {
   "cell_type": "code",
   "execution_count": 15,
   "id": "394559e2-2027-4435-9885-3bf27ed0a4f1",
   "metadata": {},
   "outputs": [
    {
     "name": "stdout",
     "output_type": "stream",
     "text": [
      "   test_statistic         p  -log2(p)\n",
      "0         0.01703  0.896172  0.158152\n"
     ]
    }
   ],
   "source": [
    "from lifelines.statistics import logrank_test\n",
    "\n",
    "results = logrank_test(durations_A=df_cluster_2_bcl9_high['event_time'], durations_B=df_cluster_2_bcl9_low['event_time'],\n",
    "                       event_observed_A=df_cluster_2_bcl9_high['event_observed'], event_observed_B=df_cluster_2_bcl9_low['event_observed'])\n",
    "print(results.summary)"
   ]
  },
  {
   "cell_type": "markdown",
   "id": "6c543381-2466-4ebb-8991-8f701b637e59",
   "metadata": {},
   "source": [
    "### Approach 2: COX-PH Analysis"
   ]
  },
  {
   "cell_type": "markdown",
   "id": "1338bbf2-02e3-465c-bb3f-9a34831c920f",
   "metadata": {},
   "source": [
    "#### Step 1: Data Preparation"
   ]
  },
  {
   "cell_type": "code",
   "execution_count": 16,
   "id": "0fe98928-140f-4862-8415-8731ae9bbb17",
   "metadata": {},
   "outputs": [
    {
     "name": "stderr",
     "output_type": "stream",
     "text": [
      "<ipython-input-16-d4616b6df998>:5: SettingWithCopyWarning: \n",
      "A value is trying to be set on a copy of a slice from a DataFrame.\n",
      "Try using .loc[row_indexer,col_indexer] = value instead\n",
      "\n",
      "See the caveats in the documentation: https://pandas.pydata.org/pandas-docs/stable/user_guide/indexing.html#returning-a-view-versus-a-copy\n",
      "  df_cluster_2['gender'] = label_encoder.fit_transform(df_cluster_2['gender'])\n",
      "<ipython-input-16-d4616b6df998>:6: SettingWithCopyWarning: \n",
      "A value is trying to be set on a copy of a slice from a DataFrame.\n",
      "Try using .loc[row_indexer,col_indexer] = value instead\n",
      "\n",
      "See the caveats in the documentation: https://pandas.pydata.org/pandas-docs/stable/user_guide/indexing.html#returning-a-view-versus-a-copy\n",
      "  df_cluster_2['paper_pathologic_stage'] = label_encoder.fit_transform(df_cluster_2['paper_pathologic_stage'])\n"
     ]
    }
   ],
   "source": [
    "from sklearn.preprocessing import LabelEncoder\n",
    "\n",
    "label_encoder = LabelEncoder()\n",
    "\n",
    "df_cluster_2['gender'] = label_encoder.fit_transform(df_cluster_2['gender'])\n",
    "df_cluster_2['paper_pathologic_stage'] = label_encoder.fit_transform(df_cluster_2['paper_pathologic_stage'])\n"
   ]
  },
  {
   "cell_type": "code",
   "execution_count": 27,
   "id": "748caca2-fb81-4768-af6b-04eb31e735c1",
   "metadata": {},
   "outputs": [
    {
     "data": {
      "text/html": [
       "<div>\n",
       "<style scoped>\n",
       "    .dataframe tbody tr th:only-of-type {\n",
       "        vertical-align: middle;\n",
       "    }\n",
       "\n",
       "    .dataframe tbody tr th {\n",
       "        vertical-align: top;\n",
       "    }\n",
       "\n",
       "    .dataframe thead th {\n",
       "        text-align: right;\n",
       "    }\n",
       "</style>\n",
       "<table border=\"1\" class=\"dataframe\">\n",
       "  <thead>\n",
       "    <tr style=\"text-align: right;\">\n",
       "      <th></th>\n",
       "      <th>gender</th>\n",
       "      <th>patientID</th>\n",
       "    </tr>\n",
       "  </thead>\n",
       "  <tbody>\n",
       "    <tr>\n",
       "      <th>2</th>\n",
       "      <td>0</td>\n",
       "      <td>A28O</td>\n",
       "    </tr>\n",
       "    <tr>\n",
       "      <th>14</th>\n",
       "      <td>0</td>\n",
       "      <td>A134</td>\n",
       "    </tr>\n",
       "    <tr>\n",
       "      <th>19</th>\n",
       "      <td>0</td>\n",
       "      <td>A0DA</td>\n",
       "    </tr>\n",
       "    <tr>\n",
       "      <th>24</th>\n",
       "      <td>0</td>\n",
       "      <td>A7U7</td>\n",
       "    </tr>\n",
       "    <tr>\n",
       "      <th>51</th>\n",
       "      <td>0</td>\n",
       "      <td>A26G</td>\n",
       "    </tr>\n",
       "    <tr>\n",
       "      <th>...</th>\n",
       "      <td>...</td>\n",
       "      <td>...</td>\n",
       "    </tr>\n",
       "    <tr>\n",
       "      <th>1060</th>\n",
       "      <td>0</td>\n",
       "      <td>A0DC</td>\n",
       "    </tr>\n",
       "    <tr>\n",
       "      <th>1069</th>\n",
       "      <td>0</td>\n",
       "      <td>A1NE</td>\n",
       "    </tr>\n",
       "    <tr>\n",
       "      <th>1078</th>\n",
       "      <td>0</td>\n",
       "      <td>A18R</td>\n",
       "    </tr>\n",
       "    <tr>\n",
       "      <th>1080</th>\n",
       "      <td>0</td>\n",
       "      <td>A0DK</td>\n",
       "    </tr>\n",
       "    <tr>\n",
       "      <th>1091</th>\n",
       "      <td>0</td>\n",
       "      <td>A25F</td>\n",
       "    </tr>\n",
       "  </tbody>\n",
       "</table>\n",
       "<p>177 rows × 2 columns</p>\n",
       "</div>"
      ],
      "text/plain": [
       "      gender patientID\n",
       "2          0      A28O\n",
       "14         0      A134\n",
       "19         0      A0DA\n",
       "24         0      A7U7\n",
       "51         0      A26G\n",
       "...      ...       ...\n",
       "1060       0      A0DC\n",
       "1069       0      A1NE\n",
       "1078       0      A18R\n",
       "1080       0      A0DK\n",
       "1091       0      A25F\n",
       "\n",
       "[177 rows x 2 columns]"
      ]
     },
     "execution_count": 27,
     "metadata": {},
     "output_type": "execute_result"
    }
   ],
   "source": [
    "df_cluster_2[['gender','patientID']]"
   ]
  },
  {
   "cell_type": "code",
   "execution_count": 17,
   "id": "e1632139-ccea-4c61-a526-1efba37dfed4",
   "metadata": {},
   "outputs": [],
   "source": [
    "\n",
    "covariates = ['gender','paper_pathologic_stage', 'age_at_diagnosis']\n",
    "\n",
    "df = df_cluster_2[covariates + ['event_time', 'event_observed', 'ENSG00000116128.11']]"
   ]
  },
  {
   "cell_type": "code",
   "execution_count": 18,
   "id": "298b8977-e8f3-4097-ae6d-bba386cd22d7",
   "metadata": {},
   "outputs": [
    {
     "name": "stdout",
     "output_type": "stream",
     "text": [
      "gender                    0\n",
      "paper_pathologic_stage    0\n",
      "age_at_diagnosis          1\n",
      "event_time                1\n",
      "event_observed            0\n",
      "ENSG00000116128.11        0\n",
      "dtype: int64\n"
     ]
    }
   ],
   "source": [
    "# Check for missing values in each column\n",
    "print(df.isnull().sum())"
   ]
  },
  {
   "cell_type": "code",
   "execution_count": 19,
   "id": "4aeaa6dd-6c6f-469d-a72c-5c82d316ffbb",
   "metadata": {},
   "outputs": [],
   "source": [
    "# Drop rows with any missing values across specified columns\n",
    "df = df.dropna(subset=covariates + ['event_time', 'event_observed', 'ENSG00000116128.11'])"
   ]
  },
  {
   "cell_type": "code",
   "execution_count": 20,
   "id": "e4b25c09-eb6d-44ff-aa09-33c1fd7c9346",
   "metadata": {},
   "outputs": [],
   "source": [
    "from sklearn.preprocessing import StandardScaler\n",
    "\n",
    "scaler = StandardScaler()\n",
    "df['age_at_diagnosis'] = scaler.fit_transform(df[['age_at_diagnosis']])\n",
    "df['ENSG00000116128.11'] = scaler.fit_transform(df[['ENSG00000116128.11']])"
   ]
  },
  {
   "cell_type": "markdown",
   "id": "dd9a7d7d-3ba7-423b-a787-ba4e3fe82f00",
   "metadata": {},
   "source": [
    "#### Step 2: Model Building"
   ]
  },
  {
   "cell_type": "code",
   "execution_count": 21,
   "id": "1ea91a42-37d0-44ac-be89-ec58e3a9da40",
   "metadata": {},
   "outputs": [
    {
     "name": "stdout",
     "output_type": "stream",
     "text": [
      "                  feature       VIF\n",
      "0        age_at_diagnosis  1.047442\n",
      "1                  gender       NaN\n",
      "2      ENSG00000116128.11  1.222102\n",
      "3  paper_pathologic_stage  2.278101\n",
      "4              event_time  2.393750\n",
      "5          event_observed  2.259206\n"
     ]
    }
   ],
   "source": [
    "from statsmodels.stats.outliers_influence import variance_inflation_factor\n",
    "\n",
    "X = df[['age_at_diagnosis', 'gender', 'ENSG00000116128.11','paper_pathologic_stage','event_time','event_observed']] \n",
    "vif_data = pd.DataFrame()\n",
    "vif_data[\"feature\"] = X.columns\n",
    "vif_data[\"VIF\"] = [variance_inflation_factor(X.values, i) for i in range(len(X.columns))]\n",
    "\n",
    "print(vif_data)\n"
   ]
  },
  {
   "cell_type": "code",
   "execution_count": 22,
   "id": "2b34ee33-c47f-4767-95cd-25cdc1c3efc4",
   "metadata": {},
   "outputs": [
    {
     "name": "stdout",
     "output_type": "stream",
     "text": [
      "                        gender  paper_pathologic_stage  age_at_diagnosis  \\\n",
      "gender                     NaN                     NaN               NaN   \n",
      "paper_pathologic_stage     NaN                1.000000         -0.042336   \n",
      "age_at_diagnosis           NaN               -0.042336          1.000000   \n",
      "event_time                 NaN                0.039077         -0.249307   \n",
      "event_observed             NaN               -0.284781         -0.142989   \n",
      "ENSG00000116128.11         NaN               -0.454796         -0.139571   \n",
      "\n",
      "                        event_time  event_observed  ENSG00000116128.11  \n",
      "gender                         NaN             NaN                 NaN  \n",
      "paper_pathologic_stage    0.039077       -0.284781           -0.454796  \n",
      "age_at_diagnosis         -0.249307       -0.142989           -0.139571  \n",
      "event_time                1.000000       -0.036730            0.052881  \n",
      "event_observed           -0.036730        1.000000            0.037347  \n",
      "ENSG00000116128.11        0.052881        0.037347            1.000000  \n"
     ]
    }
   ],
   "source": [
    "correlation_matrix = df.corr()\n",
    "print(correlation_matrix)"
   ]
  },
  {
   "cell_type": "code",
   "execution_count": 23,
   "id": "3f35f3f3-91be-4718-839f-3e13595faa16",
   "metadata": {},
   "outputs": [
    {
     "name": "stdout",
     "output_type": "stream",
     "text": [
      "Iteration 1: norm_delta = 3.14e-01, step_size = 0.9500, log_lik = -592.26892, newton_decrement = 4.81e+00, seconds_since_start = 0.0\n",
      "Iteration 2: norm_delta = 1.32e-02, step_size = 0.9500, log_lik = -587.55095, newton_decrement = 5.85e-03, seconds_since_start = 0.0\n",
      "Iteration 3: norm_delta = 6.69e-04, step_size = 0.9500, log_lik = -587.54511, newton_decrement = 1.50e-05, seconds_since_start = 0.0\n",
      "Iteration 4: norm_delta = 2.98e-08, step_size = 1.0000, log_lik = -587.54510, newton_decrement = 6.58e-14, seconds_since_start = 0.0\n",
      "Convergence success after 4 iterations.\n",
      "Cox Proportional Hazards Model Summary:\n"
     ]
    },
    {
     "data": {
      "text/html": [
       "<div>\n",
       "<style scoped>\n",
       "    .dataframe tbody tr th:only-of-type {\n",
       "        vertical-align: middle;\n",
       "    }\n",
       "\n",
       "    .dataframe tbody tr th {\n",
       "        vertical-align: top;\n",
       "    }\n",
       "\n",
       "    .dataframe thead th {\n",
       "        text-align: right;\n",
       "    }\n",
       "</style>\n",
       "<table border=\"1\" class=\"dataframe\">\n",
       "  <tbody>\n",
       "    <tr>\n",
       "      <th>model</th>\n",
       "      <td>lifelines.CoxPHFitter</td>\n",
       "    </tr>\n",
       "    <tr>\n",
       "      <th>duration col</th>\n",
       "      <td>'event_time'</td>\n",
       "    </tr>\n",
       "    <tr>\n",
       "      <th>event col</th>\n",
       "      <td>'event_observed'</td>\n",
       "    </tr>\n",
       "    <tr>\n",
       "      <th>baseline estimation</th>\n",
       "      <td>breslow</td>\n",
       "    </tr>\n",
       "    <tr>\n",
       "      <th>number of observations</th>\n",
       "      <td>175</td>\n",
       "    </tr>\n",
       "    <tr>\n",
       "      <th>number of events observed</th>\n",
       "      <td>141</td>\n",
       "    </tr>\n",
       "    <tr>\n",
       "      <th>partial log-likelihood</th>\n",
       "      <td>-587.55</td>\n",
       "    </tr>\n",
       "    <tr>\n",
       "      <th>time fit was run</th>\n",
       "      <td>2024-05-06 21:52:57 UTC</td>\n",
       "    </tr>\n",
       "  </tbody>\n",
       "</table>\n",
       "</div><table border=\"1\" class=\"dataframe\">\n",
       "  <thead>\n",
       "    <tr style=\"text-align: right;\">\n",
       "      <th style=\"min-width: 12px;\"></th>\n",
       "      <th style=\"min-width: 12px;\">coef</th>\n",
       "      <th style=\"min-width: 12px;\">exp(coef)</th>\n",
       "      <th style=\"min-width: 12px;\">se(coef)</th>\n",
       "      <th style=\"min-width: 12px;\">coef lower 95%</th>\n",
       "      <th style=\"min-width: 12px;\">coef upper 95%</th>\n",
       "      <th style=\"min-width: 12px;\">exp(coef) lower 95%</th>\n",
       "      <th style=\"min-width: 12px;\">exp(coef) upper 95%</th>\n",
       "      <th style=\"min-width: 12px;\">cmp to</th>\n",
       "      <th style=\"min-width: 12px;\">z</th>\n",
       "      <th style=\"min-width: 12px;\">p</th>\n",
       "      <th style=\"min-width: 12px;\">-log2(p)</th>\n",
       "    </tr>\n",
       "  </thead>\n",
       "  <tbody>\n",
       "    <tr>\n",
       "      <th>ENSG00000116128.11</th>\n",
       "      <td>-0.17</td>\n",
       "      <td>0.84</td>\n",
       "      <td>0.10</td>\n",
       "      <td>-0.37</td>\n",
       "      <td>0.03</td>\n",
       "      <td>0.69</td>\n",
       "      <td>1.03</td>\n",
       "      <td>0.00</td>\n",
       "      <td>-1.65</td>\n",
       "      <td>0.10</td>\n",
       "      <td>3.35</td>\n",
       "    </tr>\n",
       "    <tr>\n",
       "      <th>paper_pathologic_stage</th>\n",
       "      <td>-0.16</td>\n",
       "      <td>0.86</td>\n",
       "      <td>0.07</td>\n",
       "      <td>-0.29</td>\n",
       "      <td>-0.02</td>\n",
       "      <td>0.75</td>\n",
       "      <td>0.98</td>\n",
       "      <td>0.00</td>\n",
       "      <td>-2.25</td>\n",
       "      <td>0.02</td>\n",
       "      <td>5.35</td>\n",
       "    </tr>\n",
       "    <tr>\n",
       "      <th>age_at_diagnosis</th>\n",
       "      <td>0.14</td>\n",
       "      <td>1.15</td>\n",
       "      <td>0.09</td>\n",
       "      <td>-0.03</td>\n",
       "      <td>0.31</td>\n",
       "      <td>0.97</td>\n",
       "      <td>1.36</td>\n",
       "      <td>0.00</td>\n",
       "      <td>1.59</td>\n",
       "      <td>0.11</td>\n",
       "      <td>3.15</td>\n",
       "    </tr>\n",
       "  </tbody>\n",
       "</table><br><div>\n",
       "<style scoped>\n",
       "    .dataframe tbody tr th:only-of-type {\n",
       "        vertical-align: middle;\n",
       "    }\n",
       "\n",
       "    .dataframe tbody tr th {\n",
       "        vertical-align: top;\n",
       "    }\n",
       "\n",
       "    .dataframe thead th {\n",
       "        text-align: right;\n",
       "    }\n",
       "</style>\n",
       "<table border=\"1\" class=\"dataframe\">\n",
       "  <tbody>\n",
       "    <tr>\n",
       "      <th>Concordance</th>\n",
       "      <td>0.60</td>\n",
       "    </tr>\n",
       "    <tr>\n",
       "      <th>Partial AIC</th>\n",
       "      <td>1181.09</td>\n",
       "    </tr>\n",
       "    <tr>\n",
       "      <th>log-likelihood ratio test</th>\n",
       "      <td>9.45 on 3 df</td>\n",
       "    </tr>\n",
       "    <tr>\n",
       "      <th>-log2(p) of ll-ratio test</th>\n",
       "      <td>5.39</td>\n",
       "    </tr>\n",
       "  </tbody>\n",
       "</table>\n",
       "</div>"
      ],
      "text/latex": [
       "\\begin{tabular}{lrrrrrrrrrrr}\n",
       " & coef & exp(coef) & se(coef) & coef lower 95% & coef upper 95% & exp(coef) lower 95% & exp(coef) upper 95% & cmp to & z & p & -log2(p) \\\\\n",
       "covariate &  &  &  &  &  &  &  &  &  &  &  \\\\\n",
       "ENSG00000116128.11 & -0.17 & 0.84 & 0.10 & -0.37 & 0.03 & 0.69 & 1.03 & 0.00 & -1.65 & 0.10 & 3.35 \\\\\n",
       "paper_pathologic_stage & -0.16 & 0.86 & 0.07 & -0.29 & -0.02 & 0.75 & 0.98 & 0.00 & -2.25 & 0.02 & 5.35 \\\\\n",
       "age_at_diagnosis & 0.14 & 1.15 & 0.09 & -0.03 & 0.31 & 0.97 & 1.36 & 0.00 & 1.59 & 0.11 & 3.15 \\\\\n",
       "\\end{tabular}\n"
      ],
      "text/plain": [
       "<lifelines.CoxPHFitter: fitted with 175 total observations, 34 right-censored observations>\n",
       "             duration col = 'event_time'\n",
       "                event col = 'event_observed'\n",
       "      baseline estimation = breslow\n",
       "   number of observations = 175\n",
       "number of events observed = 141\n",
       "   partial log-likelihood = -587.55\n",
       "         time fit was run = 2024-05-06 21:52:57 UTC\n",
       "\n",
       "---\n",
       "                         coef  exp(coef)   se(coef)   coef lower 95%   coef upper 95%  exp(coef) lower 95%  exp(coef) upper 95%\n",
       "covariate                                                                                                                      \n",
       "ENSG00000116128.11      -0.17       0.84       0.10            -0.37             0.03                 0.69                 1.03\n",
       "paper_pathologic_stage  -0.16       0.86       0.07            -0.29            -0.02                 0.75                 0.98\n",
       "age_at_diagnosis         0.14       1.15       0.09            -0.03             0.31                 0.97                 1.36\n",
       "\n",
       "                         cmp to     z    p   -log2(p)\n",
       "covariate                                            \n",
       "ENSG00000116128.11         0.00 -1.65 0.10       3.35\n",
       "paper_pathologic_stage     0.00 -2.25 0.02       5.35\n",
       "age_at_diagnosis           0.00  1.59 0.11       3.15\n",
       "---\n",
       "Concordance = 0.60\n",
       "Partial AIC = 1181.09\n",
       "log-likelihood ratio test = 9.45 on 3 df\n",
       "-log2(p) of ll-ratio test = 5.39"
      ]
     },
     "metadata": {},
     "output_type": "display_data"
    }
   ],
   "source": [
    "from lifelines import CoxPHFitter\n",
    "\n",
    "cph = CoxPHFitter()\n",
    "\n",
    "\n",
    "#cph.fit(df, duration_col='event_time', event_col='event_observed', formula='ENSG00000116128.11 + gender + paper_pathologic_stage + age_at_diagnosis', show_progress=True)\n",
    "\n",
    "cph.fit(df, duration_col='event_time', event_col='event_observed', \n",
    "        formula='ENSG00000116128.11 + paper_pathologic_stage + age_at_diagnosis', show_progress=True)\n",
    "\n",
    "print(\"Cox Proportional Hazards Model Summary:\")\n",
    "cph.print_summary()\n"
   ]
  },
  {
   "cell_type": "code",
   "execution_count": 24,
   "id": "0144eb0d-9eea-48b9-87f3-4f3849ab491e",
   "metadata": {},
   "outputs": [
    {
     "data": {
      "text/plain": [
       "<Axes: xlabel='log(HR) (95% CI)'>"
      ]
     },
     "execution_count": 24,
     "metadata": {},
     "output_type": "execute_result"
    },
    {
     "data": {
      "image/png": "[encoded data removed]",
      "text/plain": [
       "<Figure size 432x288 with 1 Axes>"
      ]
     },
     "metadata": {
      "needs_background": "light"
     },
     "output_type": "display_data"
    }
   ],
   "source": [
    "cph.plot()"
   ]
  }
 ],
 "metadata": {
  "kernelspec": {
   "display_name": "Conda",
   "language": "python",
   "name": "python3"
  },
  "language_info": {
   "codemirror_mode": {
    "name": "ipython",
    "version": 3
   },
   "file_extension": ".py",
   "mimetype": "text/x-python",
   "name": "python",
   "nbconvert_exporter": "python",
   "pygments_lexer": "ipython3",
   "version": "3.10.8"
  }
 },
 "nbformat": 4,
 "nbformat_minor": 5
}
