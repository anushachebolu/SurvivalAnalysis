{
 "cells": [
  {
   "cell_type": "markdown",
   "id": "ca55c623-c9a2-404f-a363-441e7bc28a5a",
   "metadata": {},
   "source": [
    "### APPROACH 1: Kaplan-Meier and Log-Rank Test"
   ]
  },
  {
   "cell_type": "markdown",
   "id": "37a63573-479f-4d33-abfe-579bd130923e",
   "metadata": {},
   "source": [
    "#### Step 1: Data Preparation"
   ]
  },
  {
   "cell_type": "code",
   "execution_count": 12,
   "id": "716879e5-c9d0-4cfb-ae38-1f3524b603fc",
   "metadata": {},
   "outputs": [
    {
     "name": "stderr",
     "output_type": "stream",
     "text": [
      "<ipython-input-12-bb2b43718ef7>:2: DtypeWarning: Columns (18,62) have mixed types. Specify dtype option on import or set low_memory=False.\n",
      "  df_tcga_rna_seq_clinical = pd.read_csv('../PCA_Clustering_df.csv')\n"
     ]
    }
   ],
   "source": [
    "import pandas as pd\n",
    "df_tcga_rna_seq_clinical = pd.read_csv('../PCA_Clustering_df.csv')"
   ]
  },
  {
   "cell_type": "code",
   "execution_count": 14,
   "id": "acaed3f3-182b-4b07-919d-5399157cc47d",
   "metadata": {},
   "outputs": [
    {
     "data": {
      "text/plain": [
       "0    3\n",
       "1    1\n",
       "2    2\n",
       "3    3\n",
       "4    3\n",
       "Name: Cluster, dtype: int64"
      ]
     },
     "execution_count": 14,
     "metadata": {},
     "output_type": "execute_result"
    }
   ],
   "source": [
    "df_tcga_rna_seq_clinical['Cluster'].head()"
   ]
  },
  {
   "cell_type": "code",
   "execution_count": 15,
   "id": "67df877c-0adb-4cf1-b8ee-3eee57aa88a8",
   "metadata": {},
   "outputs": [],
   "source": [
    "df_cluster_0 = df_tcga_rna_seq_clinical[df_tcga_rna_seq_clinical['Cluster'] == 0]\n",
    "df_cluster_1 = df_tcga_rna_seq_clinical[df_tcga_rna_seq_clinical['Cluster'] == 1]\n",
    "df_cluster_2 = df_tcga_rna_seq_clinical[df_tcga_rna_seq_clinical['Cluster'] == 2]\n",
    "df_cluster_3 = df_tcga_rna_seq_clinical[df_tcga_rna_seq_clinical['Cluster'] == 3]"
   ]
  },
  {
   "cell_type": "code",
   "execution_count": 16,
   "id": "54cf100f-67e4-4725-ab3b-25024ac5f37e",
   "metadata": {},
   "outputs": [
    {
     "data": {
      "text/plain": [
       "(288, 60749)"
      ]
     },
     "execution_count": 16,
     "metadata": {},
     "output_type": "execute_result"
    }
   ],
   "source": [
    "df_cluster_0.shape"
   ]
  },
  {
   "cell_type": "code",
   "execution_count": 17,
   "id": "f237129e-8d21-45ce-96c4-ee68dcd7f484",
   "metadata": {},
   "outputs": [
    {
     "data": {
      "text/plain": [
       "(155, 60749)"
      ]
     },
     "execution_count": 17,
     "metadata": {},
     "output_type": "execute_result"
    }
   ],
   "source": [
    "df_cluster_1.shape"
   ]
  },
  {
   "cell_type": "code",
   "execution_count": 18,
   "id": "fec969cd-5782-4052-8009-e904d55aedc0",
   "metadata": {
    "scrolled": true
   },
   "outputs": [
    {
     "data": {
      "text/plain": [
       "(224, 60749)"
      ]
     },
     "execution_count": 18,
     "metadata": {},
     "output_type": "execute_result"
    }
   ],
   "source": [
    "df_cluster_2.shape"
   ]
  },
  {
   "cell_type": "code",
   "execution_count": 19,
   "id": "007d4c6a-f99e-4c76-b8d1-645c93d4f296",
   "metadata": {},
   "outputs": [
    {
     "data": {
      "text/plain": [
       "(426, 60749)"
      ]
     },
     "execution_count": 19,
     "metadata": {},
     "output_type": "execute_result"
    }
   ],
   "source": [
    "df_cluster_3.shape"
   ]
  },
  {
   "cell_type": "code",
   "execution_count": 20,
   "id": "dd745b53-8bed-4fea-a323-2001e7bc3a3c",
   "metadata": {},
   "outputs": [
    {
     "name": "stderr",
     "output_type": "stream",
     "text": [
      "<ipython-input-20-b78d0b1532d2>:1: SettingWithCopyWarning: \n",
      "A value is trying to be set on a copy of a slice from a DataFrame.\n",
      "Try using .loc[row_indexer,col_indexer] = value instead\n",
      "\n",
      "See the caveats in the documentation: https://pandas.pydata.org/pandas-docs/stable/user_guide/indexing.html#returning-a-view-versus-a-copy\n",
      "  df_cluster_0['event_time'] = df_cluster_0.apply(\n",
      "<ipython-input-20-b78d0b1532d2>:5: SettingWithCopyWarning: \n",
      "A value is trying to be set on a copy of a slice from a DataFrame.\n",
      "Try using .loc[row_indexer,col_indexer] = value instead\n",
      "\n",
      "See the caveats in the documentation: https://pandas.pydata.org/pandas-docs/stable/user_guide/indexing.html#returning-a-view-versus-a-copy\n",
      "  df_cluster_0['event_observed'] = df_cluster_0['vital_status'].apply(lambda x: 0 if x == 'Dead' else 1)\n"
     ]
    }
   ],
   "source": [
    "df_cluster_0['event_time'] = df_cluster_0.apply(\n",
    "    lambda row: row['days_to_last_follow_up'] if row['vital_status'] == 'Alive' else row['days_to_death'],\n",
    "    axis=1\n",
    ")\n",
    "df_cluster_0['event_observed'] = df_cluster_0['vital_status'].apply(lambda x: 0 if x == 'Dead' else 1)"
   ]
  },
  {
   "cell_type": "markdown",
   "id": "cfdebcc8-42d4-4d4f-a4c8-4780a7e7201b",
   "metadata": {},
   "source": [
    "#### Step 2: Categorizing BCL9 Expression"
   ]
  },
  {
   "cell_type": "code",
   "execution_count": 21,
   "id": "25357113-59ab-4aa5-a7ae-8c0b21e8a057",
   "metadata": {},
   "outputs": [
    {
     "name": "stderr",
     "output_type": "stream",
     "text": [
      "<ipython-input-21-a82c2d95c24d>:5: SettingWithCopyWarning: \n",
      "A value is trying to be set on a copy of a slice from a DataFrame.\n",
      "Try using .loc[row_indexer,col_indexer] = value instead\n",
      "\n",
      "See the caveats in the documentation: https://pandas.pydata.org/pandas-docs/stable/user_guide/indexing.html#returning-a-view-versus-a-copy\n",
      "  df_cluster_0['BCL9_Group'] = 'Intermediate'  # Default to Intermediate\n"
     ]
    }
   ],
   "source": [
    "Q1 = df_cluster_0['ENSG00000116128.11'].quantile(0.25)\n",
    "Q3 = df_cluster_0['ENSG00000116128.11'].quantile(0.75)\n",
    "\n",
    "# Classify patients based on BCL9 expression levels\n",
    "df_cluster_0['BCL9_Group'] = 'Intermediate'  # Default to Intermediate\n",
    "df_cluster_0.loc[df_cluster_0['ENSG00000116128.11'] <= Q1, 'BCL9_Group'] = 'Low'\n",
    "df_cluster_0.loc[df_cluster_0['ENSG00000116128.11'] >= Q3, 'BCL9_Group'] = 'High'"
   ]
  },
  {
   "cell_type": "code",
   "execution_count": 22,
   "id": "0fc17f5e-0d1a-4de8-86fc-12e14cc62300",
   "metadata": {},
   "outputs": [
    {
     "data": {
      "text/html": [
       "<div>\n",
       "<style scoped>\n",
       "    .dataframe tbody tr th:only-of-type {\n",
       "        vertical-align: middle;\n",
       "    }\n",
       "\n",
       "    .dataframe tbody tr th {\n",
       "        vertical-align: top;\n",
       "    }\n",
       "\n",
       "    .dataframe thead th {\n",
       "        text-align: right;\n",
       "    }\n",
       "</style>\n",
       "<table border=\"1\" class=\"dataframe\">\n",
       "  <thead>\n",
       "    <tr style=\"text-align: right;\">\n",
       "      <th></th>\n",
       "      <th>Unnamed: 0.1</th>\n",
       "      <th>Unnamed: 0</th>\n",
       "      <th>_id_x</th>\n",
       "      <th>patientID</th>\n",
       "      <th>barcode</th>\n",
       "      <th>patient</th>\n",
       "      <th>sample</th>\n",
       "      <th>shortLetterCode</th>\n",
       "      <th>definition</th>\n",
       "      <th>sample_submitter_id</th>\n",
       "      <th>...</th>\n",
       "      <th>ENSG00000288667.1</th>\n",
       "      <th>ENSG00000288669.1</th>\n",
       "      <th>ENSG00000288670.1</th>\n",
       "      <th>ENSG00000288671.1</th>\n",
       "      <th>ENSG00000288674.1</th>\n",
       "      <th>ENSG00000288675.1</th>\n",
       "      <th>Cluster</th>\n",
       "      <th>event_time</th>\n",
       "      <th>event_observed</th>\n",
       "      <th>BCL9_Group</th>\n",
       "    </tr>\n",
       "  </thead>\n",
       "  <tbody>\n",
       "    <tr>\n",
       "      <th>6</th>\n",
       "      <td>6</td>\n",
       "      <td>6</td>\n",
       "      <td>65325f20961444e8e0ce4aaf</td>\n",
       "      <td>A62V</td>\n",
       "      <td>TCGA-AC-A62V-01A-11R-A31O-07</td>\n",
       "      <td>TCGA-AC-A62V</td>\n",
       "      <td>TCGA-AC-A62V-01A</td>\n",
       "      <td>TP</td>\n",
       "      <td>Primary_Solid_Tumor</td>\n",
       "      <td>TCGA-AC-A62V-01A</td>\n",
       "      <td>...</td>\n",
       "      <td>-5.199338</td>\n",
       "      <td>-5.199338</td>\n",
       "      <td>-0.842694</td>\n",
       "      <td>-5.199338</td>\n",
       "      <td>0.195700</td>\n",
       "      <td>0.605955</td>\n",
       "      <td>0</td>\n",
       "      <td>348.0</td>\n",
       "      <td>0</td>\n",
       "      <td>Low</td>\n",
       "    </tr>\n",
       "    <tr>\n",
       "      <th>7</th>\n",
       "      <td>7</td>\n",
       "      <td>7</td>\n",
       "      <td>65325f20961444e8e0ce4ab0</td>\n",
       "      <td>A143</td>\n",
       "      <td>TCGA-D8-A143-01A-11R-A115-07</td>\n",
       "      <td>TCGA-D8-A143</td>\n",
       "      <td>TCGA-D8-A143-01A</td>\n",
       "      <td>TP</td>\n",
       "      <td>Primary_Solid_Tumor</td>\n",
       "      <td>TCGA-D8-A143-01A</td>\n",
       "      <td>...</td>\n",
       "      <td>-5.199338</td>\n",
       "      <td>-5.199338</td>\n",
       "      <td>-0.658043</td>\n",
       "      <td>-5.199338</td>\n",
       "      <td>1.031509</td>\n",
       "      <td>-1.831224</td>\n",
       "      <td>0</td>\n",
       "      <td>431.0</td>\n",
       "      <td>1</td>\n",
       "      <td>High</td>\n",
       "    </tr>\n",
       "    <tr>\n",
       "      <th>10</th>\n",
       "      <td>10</td>\n",
       "      <td>10</td>\n",
       "      <td>65325f21961444e8e0ce4ab3</td>\n",
       "      <td>A1XV</td>\n",
       "      <td>TCGA-D8-A1XV-01A-11R-A14M-07</td>\n",
       "      <td>TCGA-D8-A1XV</td>\n",
       "      <td>TCGA-D8-A1XV-01A</td>\n",
       "      <td>TP</td>\n",
       "      <td>Primary_Solid_Tumor</td>\n",
       "      <td>TCGA-D8-A1XV-01A</td>\n",
       "      <td>...</td>\n",
       "      <td>-5.199338</td>\n",
       "      <td>-5.199338</td>\n",
       "      <td>0.668987</td>\n",
       "      <td>-5.199338</td>\n",
       "      <td>-1.700222</td>\n",
       "      <td>-0.249721</td>\n",
       "      <td>0</td>\n",
       "      <td>461.0</td>\n",
       "      <td>1</td>\n",
       "      <td>Intermediate</td>\n",
       "    </tr>\n",
       "    <tr>\n",
       "      <th>17</th>\n",
       "      <td>17</td>\n",
       "      <td>17</td>\n",
       "      <td>65325f23961444e8e0ce4abd</td>\n",
       "      <td>A0AK</td>\n",
       "      <td>TCGA-AN-A0AK-01A-21R-A00Z-07</td>\n",
       "      <td>TCGA-AN-A0AK</td>\n",
       "      <td>TCGA-AN-A0AK-01A</td>\n",
       "      <td>TP</td>\n",
       "      <td>Solid</td>\n",
       "      <td>TCGA-AN-A0AK-01A</td>\n",
       "      <td>...</td>\n",
       "      <td>-5.199338</td>\n",
       "      <td>-5.199338</td>\n",
       "      <td>-0.070314</td>\n",
       "      <td>-5.199338</td>\n",
       "      <td>-5.199338</td>\n",
       "      <td>-0.030114</td>\n",
       "      <td>0</td>\n",
       "      <td>224.0</td>\n",
       "      <td>1</td>\n",
       "      <td>Intermediate</td>\n",
       "    </tr>\n",
       "    <tr>\n",
       "      <th>20</th>\n",
       "      <td>20</td>\n",
       "      <td>20</td>\n",
       "      <td>65325f23961444e8e0ce4ac0</td>\n",
       "      <td>A572</td>\n",
       "      <td>TCGA-E2-A572-01A-13R-A31O-07</td>\n",
       "      <td>TCGA-E2-A572</td>\n",
       "      <td>TCGA-E2-A572-01A</td>\n",
       "      <td>TP</td>\n",
       "      <td>Primary_Solid_Tumor</td>\n",
       "      <td>TCGA-E2-A572-01A</td>\n",
       "      <td>...</td>\n",
       "      <td>-5.199338</td>\n",
       "      <td>-5.199338</td>\n",
       "      <td>-1.389984</td>\n",
       "      <td>-5.199338</td>\n",
       "      <td>-1.315958</td>\n",
       "      <td>0.797044</td>\n",
       "      <td>0</td>\n",
       "      <td>1208.0</td>\n",
       "      <td>1</td>\n",
       "      <td>Low</td>\n",
       "    </tr>\n",
       "  </tbody>\n",
       "</table>\n",
       "<p>5 rows × 60752 columns</p>\n",
       "</div>"
      ],
      "text/plain": [
       "    Unnamed: 0.1  Unnamed: 0                     _id_x patientID  \\\n",
       "6              6           6  65325f20961444e8e0ce4aaf      A62V   \n",
       "7              7           7  65325f20961444e8e0ce4ab0      A143   \n",
       "10            10          10  65325f21961444e8e0ce4ab3      A1XV   \n",
       "17            17          17  65325f23961444e8e0ce4abd      A0AK   \n",
       "20            20          20  65325f23961444e8e0ce4ac0      A572   \n",
       "\n",
       "                         barcode       patient            sample  \\\n",
       "6   TCGA-AC-A62V-01A-11R-A31O-07  TCGA-AC-A62V  TCGA-AC-A62V-01A   \n",
       "7   TCGA-D8-A143-01A-11R-A115-07  TCGA-D8-A143  TCGA-D8-A143-01A   \n",
       "10  TCGA-D8-A1XV-01A-11R-A14M-07  TCGA-D8-A1XV  TCGA-D8-A1XV-01A   \n",
       "17  TCGA-AN-A0AK-01A-21R-A00Z-07  TCGA-AN-A0AK  TCGA-AN-A0AK-01A   \n",
       "20  TCGA-E2-A572-01A-13R-A31O-07  TCGA-E2-A572  TCGA-E2-A572-01A   \n",
       "\n",
       "   shortLetterCode           definition sample_submitter_id  ...  \\\n",
       "6               TP  Primary_Solid_Tumor    TCGA-AC-A62V-01A  ...   \n",
       "7               TP  Primary_Solid_Tumor    TCGA-D8-A143-01A  ...   \n",
       "10              TP  Primary_Solid_Tumor    TCGA-D8-A1XV-01A  ...   \n",
       "17              TP                Solid    TCGA-AN-A0AK-01A  ...   \n",
       "20              TP  Primary_Solid_Tumor    TCGA-E2-A572-01A  ...   \n",
       "\n",
       "    ENSG00000288667.1 ENSG00000288669.1 ENSG00000288670.1  ENSG00000288671.1  \\\n",
       "6           -5.199338         -5.199338         -0.842694          -5.199338   \n",
       "7           -5.199338         -5.199338         -0.658043          -5.199338   \n",
       "10          -5.199338         -5.199338          0.668987          -5.199338   \n",
       "17          -5.199338         -5.199338         -0.070314          -5.199338   \n",
       "20          -5.199338         -5.199338         -1.389984          -5.199338   \n",
       "\n",
       "   ENSG00000288674.1  ENSG00000288675.1 Cluster event_time event_observed  \\\n",
       "6           0.195700           0.605955       0      348.0              0   \n",
       "7           1.031509          -1.831224       0      431.0              1   \n",
       "10         -1.700222          -0.249721       0      461.0              1   \n",
       "17         -5.199338          -0.030114       0      224.0              1   \n",
       "20         -1.315958           0.797044       0     1208.0              1   \n",
       "\n",
       "      BCL9_Group  \n",
       "6            Low  \n",
       "7           High  \n",
       "10  Intermediate  \n",
       "17  Intermediate  \n",
       "20           Low  \n",
       "\n",
       "[5 rows x 60752 columns]"
      ]
     },
     "execution_count": 22,
     "metadata": {},
     "output_type": "execute_result"
    }
   ],
   "source": [
    "df_cluster_0.head()"
   ]
  },
  {
   "cell_type": "code",
   "execution_count": 23,
   "id": "4bfaae46-97af-49f9-b3c9-f9592e8df0ea",
   "metadata": {},
   "outputs": [],
   "source": [
    "df_cluster_0_bcl9_high = df_cluster_0[df_cluster_0['BCL9_Group'] == 'High']\n",
    "df_cluster_0_bcl9_low = df_cluster_0[df_cluster_0['BCL9_Group'] == 'Low']"
   ]
  },
  {
   "cell_type": "markdown",
   "id": "064d2a39-a4bd-496e-a697-56b08210b95b",
   "metadata": {},
   "source": [
    "#### Step 3: Kaplan-Meier Survival Estimates"
   ]
  },
  {
   "cell_type": "code",
   "execution_count": 24,
   "id": "faf6d3c6-e685-45a7-afa8-2423e7d53b9a",
   "metadata": {},
   "outputs": [
    {
     "data": {
      "text/plain": [
       "<lifelines.KaplanMeierFitter:\"KM_estimate\", fitted with 72 total observations, 11 right-censored observations>"
      ]
     },
     "execution_count": 24,
     "metadata": {},
     "output_type": "execute_result"
    }
   ],
   "source": [
    "from lifelines import KaplanMeierFitter\n",
    "\n",
    "# Create Kaplan-Meier objects\n",
    "kmf_high = KaplanMeierFitter()\n",
    "kmf_low = KaplanMeierFitter()\n",
    "\n",
    "# Fit data\n",
    "kmf_high.fit(durations=df_cluster_0_bcl9_high['event_time'], event_observed=df_cluster_0_bcl9_high['event_observed'])\n",
    "kmf_low.fit(durations=df_cluster_0_bcl9_low['event_time'], event_observed=df_cluster_0_bcl9_low['event_observed'])"
   ]
  },
  {
   "cell_type": "markdown",
   "id": "6ad78507-54aa-4da8-941e-1e2f464ddd97",
   "metadata": {},
   "source": [
    "#### Step 4: Plotting Kaplan-Meier Curves"
   ]
  },
  {
   "cell_type": "code",
   "execution_count": 25,
   "id": "7f8f4337-8a60-42a5-b0ca-305508a191f8",
   "metadata": {},
   "outputs": [
    {
     "data": {
      "image/png": "[encoded data removed]",
      "text/plain": [
       "<Figure size 432x288 with 1 Axes>"
      ]
     },
     "metadata": {
      "needs_background": "light"
     },
     "output_type": "display_data"
    }
   ],
   "source": [
    "import matplotlib.pyplot as plt\n",
    "\n",
    "kmf_high.plot(label='High BCL9 Expression')\n",
    "kmf_low.plot(label='Low BCL9 Expression')\n",
    "\n",
    "plt.title('Kaplan-Meier Survival Curve')\n",
    "plt.xlabel('Time')\n",
    "plt.ylabel('Survival Probability')\n",
    "plt.legend()\n",
    "\n",
    "plt.show()"
   ]
  },
  {
   "cell_type": "code",
   "execution_count": 26,
   "id": "4d5bfe6e-b9c7-4dd3-a77b-5740c91b345b",
   "metadata": {},
   "outputs": [
    {
     "name": "stdout",
     "output_type": "stream",
     "text": [
      "Median Survival Time - High BCL9 Expression: 1025.0\n",
      "Median Survival Time - Low BCL9 Expression: 974.0\n"
     ]
    }
   ],
   "source": [
    "median_survival_high = kmf_high.median_survival_time_\n",
    "median_survival_low = kmf_low.median_survival_time_\n",
    "print(f\"Median Survival Time - High BCL9 Expression: {median_survival_high}\")\n",
    "print(f\"Median Survival Time - Low BCL9 Expression: {median_survival_low}\")"
   ]
  },
  {
   "cell_type": "markdown",
   "id": "c150a1e7-ba78-4e59-8542-c2799be42150",
   "metadata": {},
   "source": [
    "#### Step 5: Log-Rank Test"
   ]
  },
  {
   "cell_type": "code",
   "execution_count": 27,
   "id": "394559e2-2027-4435-9885-3bf27ed0a4f1",
   "metadata": {},
   "outputs": [
    {
     "name": "stdout",
     "output_type": "stream",
     "text": [
      "   test_statistic        p  -log2(p)\n",
      "0         1.77593  0.18265  2.452847\n"
     ]
    }
   ],
   "source": [
    "from lifelines.statistics import logrank_test\n",
    "\n",
    "results = logrank_test(durations_A=df_cluster_0_bcl9_high['event_time'], durations_B=df_cluster_0_bcl9_low['event_time'],\n",
    "                       event_observed_A=df_cluster_0_bcl9_high['event_observed'], event_observed_B=df_cluster_0_bcl9_low['event_observed'])\n",
    "print(results.summary) "
   ]
  },
  {
   "cell_type": "markdown",
   "id": "6c543381-2466-4ebb-8991-8f701b637e59",
   "metadata": {},
   "source": [
    "### Approach 2: COX-PH Analysis"
   ]
  },
  {
   "cell_type": "markdown",
   "id": "1338bbf2-02e3-465c-bb3f-9a34831c920f",
   "metadata": {},
   "source": [
    "#### Step 1: Data Preparation"
   ]
  },
  {
   "cell_type": "code",
   "execution_count": null,
   "id": "0fe98928-140f-4862-8415-8731ae9bbb17",
   "metadata": {},
   "outputs": [],
   "source": [
    "from sklearn.preprocessing import LabelEncoder\n",
    "\n",
    "label_encoder = LabelEncoder()\n",
    "df_cluster_0['gender'] = label_encoder.fit_transform(df_cluster_0['gender'])\n",
    "df_cluster_0['paper_pathologic_stage'] = label_encoder.fit_transform(df_cluster_0['paper_pathologic_stage'])"
   ]
  },
  {
   "cell_type": "code",
   "execution_count": null,
   "id": "9515e1e9-2f10-4b57-b330-c64ab82c6fb8",
   "metadata": {},
   "outputs": [],
   "source": [
    "\n",
    "covariates = ['gender', 'paper_pathologic_stage', 'age_at_diagnosis']\n",
    "\n",
    "df = df_cluster_0[covariates + ['event_time', 'event_observed', 'ENSG00000116128.11']]"
   ]
  },
  {
   "cell_type": "code",
   "execution_count": null,
   "id": "e3f57c43-ff1c-49fb-9138-ce9347170867",
   "metadata": {},
   "outputs": [],
   "source": [
    "# Check for missing values in each column\n",
    "print(df.isnull().sum())\n"
   ]
  },
  {
   "cell_type": "code",
   "execution_count": null,
   "id": "7f27b29d-02b7-447c-814d-3799f7a9628a",
   "metadata": {},
   "outputs": [],
   "source": [
    "# Drop rows with any missing values across specified columns\n",
    "df = df.dropna(subset=covariates + ['event_time', 'event_observed', 'ENSG00000116128.11'])"
   ]
  },
  {
   "cell_type": "markdown",
   "id": "dd9a7d7d-3ba7-423b-a787-ba4e3fe82f00",
   "metadata": {},
   "source": [
    "#### Step 2: Model Building"
   ]
  },
  {
   "cell_type": "code",
   "execution_count": null,
   "id": "3f35f3f3-91be-4718-839f-3e13595faa16",
   "metadata": {},
   "outputs": [],
   "source": [
    "from lifelines import CoxPHFitter\n",
    "\n",
    "cph = CoxPHFitter()\n",
    "\n",
    "\n",
    "cph.fit(df, duration_col='event_time', event_col='event_observed', \n",
    "        formula='ENSG00000116128.11 + gender + paper_pathologic_stage + age_at_diagnosis')\n",
    "\n",
    "print(\"Cox Proportional Hazards Model Summary:\")\n",
    "cph.print_summary()\n"
   ]
  },
  {
   "cell_type": "code",
   "execution_count": null,
   "id": "0144eb0d-9eea-48b9-87f3-4f3849ab491e",
   "metadata": {},
   "outputs": [],
   "source": [
    "cph.plot()"
   ]
  }
 ],
 "metadata": {
  "kernelspec": {
   "display_name": "Conda",
   "language": "python",
   "name": "python3"
  },
  "language_info": {
   "codemirror_mode": {
    "name": "ipython",
    "version": 3
   },
   "file_extension": ".py",
   "mimetype": "text/x-python",
   "name": "python",
   "nbconvert_exporter": "python",
   "pygments_lexer": "ipython3",
   "version": "3.10.8"
  }
 },
 "nbformat": 4,
 "nbformat_minor": 5
}
