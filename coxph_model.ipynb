{
 "cells": [
  {
   "cell_type": "markdown",
   "id": "2e42d626-d9cd-405e-a7c7-4600760c5b47",
   "metadata": {},
   "source": [
    "### Import Dataset"
   ]
  },
  {
   "cell_type": "code",
   "execution_count": 1,
   "id": "5e57c343-b91b-4095-93e7-952d229d8741",
   "metadata": {},
   "outputs": [
    {
     "name": "stderr",
     "output_type": "stream",
     "text": [
      "<ipython-input-1-3db52f942ba7>:2: DtypeWarning: Columns (17,61) have mixed types. Specify dtype option on import or set low_memory=False.\n",
      "  df_tcga_rna_seq_clinical = pd.read_csv('df_tcga_rna_seq_clinical.csv')\n"
     ]
    }
   ],
   "source": [
    "import pandas as pd\n",
    "df_tcga_rna_seq_clinical = pd.read_csv('df_tcga_rna_seq_clinical.csv')"
   ]
  },
  {
   "cell_type": "code",
   "execution_count": 2,
   "id": "203a60ac-d00e-4a46-b2d5-e66cf2353381",
   "metadata": {},
   "outputs": [],
   "source": [
    "# df_tcga_rna_seq_clinical[df_tcga_rna_seq_clinical['vital_status'] == 'Dead'][['days_to_collection', \n",
    "#                                                                                  'days_to_diagnosis', \n",
    "#                                                                                  'days_to_last_follow_up',\n",
    "#                                                                                  'age_at_diagnosis',\n",
    "#                                                                                  'year_of_diagnosis',\n",
    "#                                                                                  'vital_status', \n",
    "#                                                                                  'age_at_index', \n",
    "#                                                                                  'days_to_birth',\n",
    "#                                                                                  'year_of_birth',\n",
    "#                                                                                  'year_of_death', \n",
    "#                                                                                  'days_to_death', \n",
    "#                                                                                  'days_to_sample_procurement']].head()"
   ]
  },
  {
   "cell_type": "markdown",
   "id": "255c6810-edf2-49ea-b7be-bf4b9a1a9274",
   "metadata": {},
   "source": [
    "### Define event_time and event_observed"
   ]
  },
  {
   "cell_type": "code",
   "execution_count": 3,
   "id": "ce90523f-1486-43a3-a094-7957d051670d",
   "metadata": {},
   "outputs": [],
   "source": [
    "df_tcga_rna_seq_clinical['event_time'] = df_tcga_rna_seq_clinical.apply(\n",
    "    lambda row: row['days_to_last_follow_up'] if row['vital_status'] == 'Alive' else row['days_to_death'],\n",
    "    axis=1\n",
    ")\n",
    "df_tcga_rna_seq_clinical['event_observed'] = df_tcga_rna_seq_clinical['vital_status'].apply(lambda x: 0 if x == 'Dead' else 1)"
   ]
  },
  {
   "cell_type": "code",
   "execution_count": 4,
   "id": "51ee99a6-5c25-4d7c-8951-6a31a1241535",
   "metadata": {},
   "outputs": [],
   "source": [
    "df_tcga_rna_seq_clinical['event_time'] = pd.to_numeric(df_tcga_rna_seq_clinical['event_time'], errors='coerce')\n",
    "df_tcga_rna_seq_clinical['event_observed'] = pd.to_numeric(df_tcga_rna_seq_clinical['event_observed'], errors='coerce')"
   ]
  },
  {
   "cell_type": "code",
   "execution_count": 5,
   "id": "c4ea1003-629c-4e2b-97ba-c1dd637eb300",
   "metadata": {},
   "outputs": [],
   "source": [
    "df_tcga_rna_seq_clinical.to_csv('df_tcga_rna_seq_clinical')"
   ]
  },
  {
   "cell_type": "code",
   "execution_count": 6,
   "id": "88d3a9ff-815d-4eb7-9c71-e56afeedddef",
   "metadata": {},
   "outputs": [],
   "source": [
    "# df_tcga_rna_seq_clinical[df_tcga_rna_seq_clinical['event_time'].isnull()][['patientID', 'days_to_collection', \n",
    "#                                                                             'days_to_diagnosis', \n",
    "#                                                                                  'days_to_last_follow_up',\n",
    "#                                                                                  'age_at_diagnosis',\n",
    "#                                                                                  'year_of_diagnosis',\n",
    "#                                                                                  'vital_status', \n",
    "#                                                                                  'age_at_index', \n",
    "#                                                                                  'days_to_birth',\n",
    "#                                                                                  'year_of_birth',\n",
    "#                                                                                  'year_of_death', \n",
    "#                                                                                  'days_to_death', \n",
    "#                                                                                  'days_to_sample_procurement']].head() # A245, #A0B2"
   ]
  },
  {
   "cell_type": "markdown",
   "id": "cbe0b126-df3d-4d3e-9ba9-c7d9626bd208",
   "metadata": {},
   "source": [
    "### Histogram plot to observe the frequency of time events"
   ]
  },
  {
   "cell_type": "code",
   "execution_count": 7,
   "id": "73b2790c-17a8-44f4-8f60-e91869f9a0c3",
   "metadata": {},
   "outputs": [
    {
     "data": {
      "image/png": "[encoded data removed]",
      "text/plain": [
       "<Figure size 432x288 with 1 Axes>"
      ]
     },
     "metadata": {
      "needs_background": "light"
     },
     "output_type": "display_data"
    }
   ],
   "source": [
    "import matplotlib.pyplot as plt\n",
    "T = df_tcga_rna_seq_clinical['event_time']\n",
    "E = df_tcga_rna_seq_clinical['event_observed']\n",
    "bin_width = 30 \n",
    "bins = int((T.max() - T.min()) / bin_width)\n",
    "plt.xlabel('Event Time (days)')\n",
    "plt.ylabel('Frequency')\n",
    "plt.title('Histogram of Event Time')\n",
    "plt.hist(T, bins = 30 )\n",
    "plt.show()"
   ]
  },
  {
   "cell_type": "markdown",
   "id": "945f5122-7aba-4ff2-80ca-6f0dd5cea1c9",
   "metadata": {},
   "source": [
    "The histogram from the provided image depicts a right-skewed distribution of event times, indicating that a significant number of events occur relatively soon after a starting point, with the frequency of events rapidly declining as time progresses. The distribution’s tail extending to the right suggests that while most events occur early, there are instances where events occur at much later times, albeit infrequently. The concentration of early events could reflect the natural course of the disease being studied, the impact of effective early interventions, or could be indicative of a high-risk cohort. The use of 30 bins has provided a detailed visualization, revealing the overall trend without obscuring the data with too much granularity. The graph serves as a foundation for further survival analysis and to understand factors that might influence the time to events within the study population."
   ]
  },
  {
   "cell_type": "markdown",
   "id": "f5a98c8d-2fc1-4d80-be88-37a25d8be634",
   "metadata": {},
   "source": [
    "### Histogram plot to observe the frequency of event observed"
   ]
  },
  {
   "cell_type": "code",
   "execution_count": 8,
   "id": "5e1b86e7-2062-4f61-bac1-1ce5d107d4df",
   "metadata": {},
   "outputs": [
    {
     "data": {
      "image/png": "[encoded data removed]",
      "text/plain": [
       "<Figure size 432x288 with 1 Axes>"
      ]
     },
     "metadata": {
      "needs_background": "light"
     },
     "output_type": "display_data"
    }
   ],
   "source": [
    "bins = int((E.max() - E.min()) / bin_width)\n",
    "plt.xlabel('Event Observed')\n",
    "plt.ylabel('Frequency')\n",
    "plt.title('Histogram of Event Observed')\n",
    "plt.hist(E, bins = 30 )\n",
    "plt.show()"
   ]
  },
  {
   "cell_type": "markdown",
   "id": "68a6b15d-c20e-4845-84cb-f41a7fed1473",
   "metadata": {},
   "source": [
    "### Plotting Kaplan Meier Curve"
   ]
  },
  {
   "cell_type": "code",
   "execution_count": 9,
   "id": "ead8c98f-083b-47e5-ba2c-ff1b9c7fd1c9",
   "metadata": {},
   "outputs": [
    {
     "data": {
      "text/plain": [
       "Text(0.5, 1.0, 'Survival Function')"
      ]
     },
     "execution_count": 9,
     "metadata": {},
     "output_type": "execute_result"
    },
    {
     "data": {
      "image/png": "[encoded data removed]",
      "text/plain": [
       "<Figure size 432x288 with 1 Axes>"
      ]
     },
     "metadata": {
      "needs_background": "light"
     },
     "output_type": "display_data"
    }
   ],
   "source": [
    "from lifelines import KaplanMeierFitter\n",
    "kmf = KaplanMeierFitter()\n",
    "kmf.fit(T, E,label='Kaplan Meier Estimate')\n",
    "kmf.plot_survival_function()\n",
    "plt.title('Survival Function')"
   ]
  },
  {
   "cell_type": "markdown",
   "id": "468fd295-cebf-4f81-8b5a-6b0a5d905cf6",
   "metadata": {},
   "source": [
    "The curve represents the Kaplan Meier Estimate of the survival function. It gives the probability that a subject will survive past a certain time t."
   ]
  },
  {
   "cell_type": "markdown",
   "id": "b383d56c-100c-495c-9674-b34504fcfede",
   "metadata": {},
   "source": [
    "* The curve's shape suggests that the probability of survival decreases over time, which is typical in survival analysis. At the beginning, the curve drops steeply, indicating a higher rate of the event occurring (such as death, disease relapse, etc.). As time goes on, the rate of decrease slows down, indicating fewer events happening as time progresses.\n",
    "* The shaded region around the curve represents the confidence interval for the estimate, providing a visual sense of the estimate's precision. A wider shaded area would indicate more variability and less certainty in the estimate."
   ]
  },
  {
   "cell_type": "code",
   "execution_count": 10,
   "id": "97fe41eb-071c-4960-afc1-2fcf5aaf8865",
   "metadata": {},
   "outputs": [
    {
     "data": {
      "text/plain": [
       "<Axes: xlabel='timeline'>"
      ]
     },
     "execution_count": 10,
     "metadata": {},
     "output_type": "execute_result"
    },
    {
     "data": {
      "image/png": "[encoded data removed]",
      "text/plain": [
       "<Figure size 432x288 with 1 Axes>"
      ]
     },
     "metadata": {
      "needs_background": "light"
     },
     "output_type": "display_data"
    }
   ],
   "source": [
    "kmf.plot_cumulative_density()"
   ]
  },
  {
   "cell_type": "code",
   "execution_count": 11,
   "id": "f6e2c532-8606-4bde-8509-a09de1a1b769",
   "metadata": {},
   "outputs": [
    {
     "data": {
      "text/plain": [
       "943.0"
      ]
     },
     "execution_count": 11,
     "metadata": {},
     "output_type": "execute_result"
    }
   ],
   "source": [
    "kmf.median_survival_time_"
   ]
  },
  {
   "cell_type": "markdown",
   "id": "e64998ae-b7ed-414f-a5e5-c1c09125b134",
   "metadata": {},
   "source": [
    "The attribute kmf.median_survival_time_ from the Kaplan-Meier fitter object in Python's lifelines library provides the estimated median survival time based on the survival function. The median survival time is the time at which 50% of the population is expected to have experienced the event of interest (e.g., death, failure, relapse, etc.)."
   ]
  },
  {
   "cell_type": "code",
   "execution_count": 12,
   "id": "2acbe311-6470-4608-a37d-703323805c90",
   "metadata": {},
   "outputs": [
    {
     "name": "stdout",
     "output_type": "stream",
     "text": [
      "943.0\n",
      "     Kaplan Meier Estimate_lower_0.95  Kaplan Meier Estimate_upper_0.95\n",
      "0.5                             847.0                            1009.0\n"
     ]
    }
   ],
   "source": [
    "from lifelines.utils import median_survival_times\n",
    "median_ = kmf.median_survival_time_\n",
    "median_confidence_interval_ = median_survival_times(kmf.confidence_interval_)\n",
    "print(median_)\n",
    "print(median_confidence_interval_)"
   ]
  },
  {
   "cell_type": "markdown",
   "id": "658183cf-85ef-4741-a0db-973efa483f42",
   "metadata": {},
   "source": [
    "### Survival Analysis based on 'gender' using KaplanMeier"
   ]
  },
  {
   "cell_type": "code",
   "execution_count": 13,
   "id": "af89de70-ee9a-41da-8bed-3d1d9987414c",
   "metadata": {},
   "outputs": [],
   "source": [
    "df_tcga_rna_seq_clinical['gender'] = df_tcga_rna_seq_clinical['gender'].map({'female': 1, 'male': 0})"
   ]
  },
  {
   "cell_type": "code",
   "execution_count": 14,
   "id": "f57246bf-1629-442a-887e-53a295c42d7f",
   "metadata": {},
   "outputs": [
    {
     "data": {
      "text/plain": [
       "Text(0.5, 1.0, 'Survival of different gender group')"
      ]
     },
     "execution_count": 14,
     "metadata": {},
     "output_type": "execute_result"
    },
    {
     "data": {
      "image/png": "[encoded data removed]",
      "text/plain": [
       "<Figure size 432x288 with 2 Axes>"
      ]
     },
     "metadata": {
      "needs_background": "light"
     },
     "output_type": "display_data"
    }
   ],
   "source": [
    "ax = plt.subplot(111)\n",
    "m = (df_tcga_rna_seq_clinical[\"gender\"] == 0)\n",
    "kmf.fit(durations=T[m], event_observed=E[m], label=\"male\")\n",
    "kmf.plot_survival_function(ax=ax)\n",
    "\n",
    "kmf.fit(T[~m], event_observed=E[~m], label=\"female\")\n",
    "kmf.plot_survival_function(ax=ax, at_risk_counts=True)\n",
    "\n",
    "plt.title(\"Survival of different gender group\")"
   ]
  },
  {
   "cell_type": "markdown",
   "id": "2e21c91f-9b7a-4878-b829-dd70956b9c0c",
   "metadata": {},
   "source": [
    "* At Risk: This refers to the number of individuals who are still being followed in the study and are at risk of experiencing the event of interest at the start of each time interval. In the plot, the 'At risk' row indicates how many individuals were at risk at various time points along the x-axis.\n",
    "* Censored: Censoring happens when there is no event (such as death or disease recurrence) for a subject during the observation period. This could be because the subject dropped out of the study, the study ended before the event occurred, or the subject did not experience the event until the last observation time. The 'Censored' row shows the number of individuals who were censored at different time points.\n",
    "* Events: This indicates the actual number of events (such as death) that occurred at different time points. The 'Events' row lists the number of events that occurred at the specified times.\n",
    "\n",
    "The numbers given in these rows correspond to the respective descriptions at specific times during the study. For example, in the table below the graph, at the beginning of the study, there might be 1060 individuals at risk. As time progresses to a certain point, perhaps at 2000 days, there may only be 220 individuals left at risk. This reduction in the at-risk population over time happens due to events occurring or individuals being censored. The number of events and censored data points at these times are also shown, providing insight into how the risk pool decreases over time."
   ]
  },
  {
   "cell_type": "markdown",
   "id": "1352a336-a302-48fd-ab3d-4efc13957a82",
   "metadata": {},
   "source": [
    "### Performing Survival Analysis using Cox-ph model"
   ]
  },
  {
   "cell_type": "code",
   "execution_count": 16,
   "id": "fee8f391-2a13-4753-88cc-01b412c508a5",
   "metadata": {},
   "outputs": [],
   "source": [
    "from sklearn.preprocessing import LabelEncoder\n",
    "\n",
    "label_encoder = LabelEncoder()\n",
    "df_tcga_rna_seq_clinical['gender'] = label_encoder.fit_transform(df_tcga_rna_seq_clinical['gender'])\n",
    "df_tcga_rna_seq_clinical['paper_pathologic_stage'] = label_encoder.fit_transform(df_tcga_rna_seq_clinical['paper_pathologic_stage'])\n"
   ]
  },
  {
   "cell_type": "code",
   "execution_count": 17,
   "id": "bd86da37-4813-4432-8a39-1bba5b13eb83",
   "metadata": {},
   "outputs": [
    {
     "data": {
      "text/plain": [
       "dtype('int64')"
      ]
     },
     "execution_count": 17,
     "metadata": {},
     "output_type": "execute_result"
    }
   ],
   "source": [
    "df_tcga_rna_seq_clinical['gender'].dtype"
   ]
  },
  {
   "cell_type": "markdown",
   "id": "958b67fd-59b0-43e9-a841-d24348db8204",
   "metadata": {},
   "source": [
    "### Cox Proportional Hazards model"
   ]
  },
  {
   "cell_type": "markdown",
   "id": "68936dd7-4f75-47e9-9068-e454337e5503",
   "metadata": {},
   "source": [
    "### Survival regression¶\n",
    "\n",
    "Survival Regression does not only involves using the duration and the censorship variables but also using the additional features as covariates. We ‘regress’ these covariates with the duration variable. The dataset used for Survival Regression needs to be in the form of a DataFrame with a column denoting the duration the subjects, a column indicating whether or not the event of interest was observed, as well as additional covariates you need to regress with. Like with other regression techniques, you need to prepare the data before feeding it to the model.\n"
   ]
  },
  {
   "cell_type": "markdown",
   "id": "a6b523f4-5517-400d-8f32-36e2753774a1",
   "metadata": {},
   "source": [
    "### Cox Model¶\n",
    "The Cox Proportional Hazards Model was introduced by Cox and it takes into account the effect of several variables at a time and examines the relationship of the survival distribution to these variables. It is similar to Multiple Regression Analysis, but the difference is that the depended variable is the Hazard Function at a given time t. It is based on very small intervals of time, which contains at most one event of interest. It is a semi-parametric approach for the estimation of weights in a Proportional Hazard Model. The parameter estimates are obtained by maximizing the partial likelihood of the weights. Gradient Descent is used to fit the Cox Model to the data. The explanation of Gradient Descent finds the weights such that the error is minimized. The formula for the Cox Proportional Hazards Regression Model is given as follows. The model works such that the log-hazard of an individual subject is a linear function of their static covariates and a population-level baseline hazard function that changes over time. These covariates can be estimated by partial likelihood."
   ]
  },
  {
   "cell_type": "markdown",
   "id": "713894c7-b966-4122-9398-a5b18f1d74dc",
   "metadata": {},
   "source": [
    "Cox Proportional Hazards Model is a semi-parametric model in the sense that the baseline hazard function does not have to be specified i.e it can vary, allowing a different parameter to be used for each unique survival time. But, it assumes that the rate ratio remains proportional throughout the studied period. This results in increased flexibility of the model. A fully-parametric proportional hazards model also assumes that the baseline hazard function can be parameterized according to a particular model for the distribution of the survival times. Cox Model can handle right-censored data but cannot handle left-censored or interval-censored data directly.\n",
    "\n",
    "There are three assumptions made by the Cox Model:\n",
    "\n",
    "1. The Hazard Ratio of two subjects remains the same at all times.\n",
    "2. The Explanatory Variables act multiplicatively on the Hazard Function.\n",
    "3. Failure times of individual subjects are independent of each other."
   ]
  },
  {
   "cell_type": "code",
   "execution_count": 18,
   "id": "ea41c32e-7b81-4bbc-8363-d875c1041e41",
   "metadata": {},
   "outputs": [
    {
     "data": {
      "text/html": [
       "<div>\n",
       "<style scoped>\n",
       "    .dataframe tbody tr th:only-of-type {\n",
       "        vertical-align: middle;\n",
       "    }\n",
       "\n",
       "    .dataframe tbody tr th {\n",
       "        vertical-align: top;\n",
       "    }\n",
       "\n",
       "    .dataframe thead th {\n",
       "        text-align: right;\n",
       "    }\n",
       "</style>\n",
       "<table border=\"1\" class=\"dataframe\">\n",
       "  <tbody>\n",
       "    <tr>\n",
       "      <th>model</th>\n",
       "      <td>lifelines.CoxPHFitter</td>\n",
       "    </tr>\n",
       "    <tr>\n",
       "      <th>duration col</th>\n",
       "      <td>'event_time'</td>\n",
       "    </tr>\n",
       "    <tr>\n",
       "      <th>event col</th>\n",
       "      <td>'event_observed'</td>\n",
       "    </tr>\n",
       "    <tr>\n",
       "      <th>baseline estimation</th>\n",
       "      <td>breslow</td>\n",
       "    </tr>\n",
       "    <tr>\n",
       "      <th>number of observations</th>\n",
       "      <td>1093</td>\n",
       "    </tr>\n",
       "    <tr>\n",
       "      <th>number of events observed</th>\n",
       "      <td>942</td>\n",
       "    </tr>\n",
       "    <tr>\n",
       "      <th>partial log-likelihood</th>\n",
       "      <td>-5693.99</td>\n",
       "    </tr>\n",
       "    <tr>\n",
       "      <th>time fit was run</th>\n",
       "      <td>2024-04-27 17:25:28 UTC</td>\n",
       "    </tr>\n",
       "  </tbody>\n",
       "</table>\n",
       "</div><table border=\"1\" class=\"dataframe\">\n",
       "  <thead>\n",
       "    <tr style=\"text-align: right;\">\n",
       "      <th style=\"min-width: 12px;\"></th>\n",
       "      <th style=\"min-width: 12px;\">coef</th>\n",
       "      <th style=\"min-width: 12px;\">exp(coef)</th>\n",
       "      <th style=\"min-width: 12px;\">se(coef)</th>\n",
       "      <th style=\"min-width: 12px;\">coef lower 95%</th>\n",
       "      <th style=\"min-width: 12px;\">coef upper 95%</th>\n",
       "      <th style=\"min-width: 12px;\">exp(coef) lower 95%</th>\n",
       "      <th style=\"min-width: 12px;\">exp(coef) upper 95%</th>\n",
       "      <th style=\"min-width: 12px;\">cmp to</th>\n",
       "      <th style=\"min-width: 12px;\">z</th>\n",
       "      <th style=\"min-width: 12px;\">p</th>\n",
       "      <th style=\"min-width: 12px;\">-log2(p)</th>\n",
       "    </tr>\n",
       "  </thead>\n",
       "  <tbody>\n",
       "    <tr>\n",
       "      <th>gender</th>\n",
       "      <td>-0.47</td>\n",
       "      <td>0.62</td>\n",
       "      <td>0.32</td>\n",
       "      <td>-1.09</td>\n",
       "      <td>0.15</td>\n",
       "      <td>0.34</td>\n",
       "      <td>1.16</td>\n",
       "      <td>0.00</td>\n",
       "      <td>-1.49</td>\n",
       "      <td>0.14</td>\n",
       "      <td>2.88</td>\n",
       "    </tr>\n",
       "    <tr>\n",
       "      <th>paper_pathologic_stage</th>\n",
       "      <td>-0.08</td>\n",
       "      <td>0.92</td>\n",
       "      <td>0.03</td>\n",
       "      <td>-0.14</td>\n",
       "      <td>-0.02</td>\n",
       "      <td>0.87</td>\n",
       "      <td>0.98</td>\n",
       "      <td>0.00</td>\n",
       "      <td>-2.60</td>\n",
       "      <td>0.01</td>\n",
       "      <td>6.76</td>\n",
       "    </tr>\n",
       "  </tbody>\n",
       "</table><br><div>\n",
       "<style scoped>\n",
       "    .dataframe tbody tr th:only-of-type {\n",
       "        vertical-align: middle;\n",
       "    }\n",
       "\n",
       "    .dataframe tbody tr th {\n",
       "        vertical-align: top;\n",
       "    }\n",
       "\n",
       "    .dataframe thead th {\n",
       "        text-align: right;\n",
       "    }\n",
       "</style>\n",
       "<table border=\"1\" class=\"dataframe\">\n",
       "  <tbody>\n",
       "    <tr>\n",
       "      <th>Concordance</th>\n",
       "      <td>0.50</td>\n",
       "    </tr>\n",
       "    <tr>\n",
       "      <th>Partial AIC</th>\n",
       "      <td>11391.97</td>\n",
       "    </tr>\n",
       "    <tr>\n",
       "      <th>log-likelihood ratio test</th>\n",
       "      <td>7.63 on 2 df</td>\n",
       "    </tr>\n",
       "    <tr>\n",
       "      <th>-log2(p) of ll-ratio test</th>\n",
       "      <td>5.50</td>\n",
       "    </tr>\n",
       "  </tbody>\n",
       "</table>\n",
       "</div>"
      ],
      "text/latex": [
       "\\begin{tabular}{lrrrrrrrrrrr}\n",
       " & coef & exp(coef) & se(coef) & coef lower 95% & coef upper 95% & exp(coef) lower 95% & exp(coef) upper 95% & cmp to & z & p & -log2(p) \\\\\n",
       "covariate &  &  &  &  &  &  &  &  &  &  &  \\\\\n",
       "gender & -0.47 & 0.62 & 0.32 & -1.09 & 0.15 & 0.34 & 1.16 & 0.00 & -1.49 & 0.14 & 2.88 \\\\\n",
       "paper_pathologic_stage & -0.08 & 0.92 & 0.03 & -0.14 & -0.02 & 0.87 & 0.98 & 0.00 & -2.60 & 0.01 & 6.76 \\\\\n",
       "\\end{tabular}\n"
      ],
      "text/plain": [
       "<lifelines.CoxPHFitter: fitted with 1093 total observations, 151 right-censored observations>\n",
       "             duration col = 'event_time'\n",
       "                event col = 'event_observed'\n",
       "      baseline estimation = breslow\n",
       "   number of observations = 1093\n",
       "number of events observed = 942\n",
       "   partial log-likelihood = -5693.99\n",
       "         time fit was run = 2024-04-27 17:25:28 UTC\n",
       "\n",
       "---\n",
       "                         coef  exp(coef)   se(coef)   coef lower 95%   coef upper 95%  exp(coef) lower 95%  exp(coef) upper 95%\n",
       "covariate                                                                                                                      \n",
       "gender                  -0.47       0.62       0.32            -1.09             0.15                 0.34                 1.16\n",
       "paper_pathologic_stage  -0.08       0.92       0.03            -0.14            -0.02                 0.87                 0.98\n",
       "\n",
       "                         cmp to     z    p   -log2(p)\n",
       "covariate                                            \n",
       "gender                     0.00 -1.49 0.14       2.88\n",
       "paper_pathologic_stage     0.00 -2.60 0.01       6.76\n",
       "---\n",
       "Concordance = 0.50\n",
       "Partial AIC = 11391.97\n",
       "log-likelihood ratio test = 7.63 on 2 df\n",
       "-log2(p) of ll-ratio test = 5.50"
      ]
     },
     "metadata": {},
     "output_type": "display_data"
    }
   ],
   "source": [
    "from lifelines import CoxPHFitter\n",
    "cph = CoxPHFitter()\n",
    "covariates = ['gender', 'paper_pathologic_stage']\n",
    "df_for_cox = df_tcga_rna_seq_clinical[covariates + ['event_time', 'event_observed']]\n",
    "cph.fit(df_for_cox, duration_col='event_time', event_col='event_observed')\n",
    "cph.print_summary()"
   ]
  },
  {
   "cell_type": "markdown",
   "id": "bce7420a-82c3-45df-be85-fb2820e272da",
   "metadata": {},
   "source": [
    "* Partial log-likelihood: The partial log-likelihood for the model is -5692.06, which is a measure of the fit of the model. In Cox models, the higher (closer to zero) this number is, the better the model generally fits the data.\n",
    "* Coefficients (coef): The coefficients for the variables 'gender' and 'paper_pathologic_stage' are -0.48 and 0.12, respectively. These values represent the log hazard ratios and are used to indicate the direction and magnitude of the effect of each variable on survival.\n",
    "* Hazard Ratios (exp(coef)): The hazard ratios for 'gender' and 'paper_pathologic_stage' are 0.62 and 1.13, respectively. A hazard ratio below 1, like for 'gender', suggests a lower risk of the event occurring compared to the baseline. A hazard ratio above 1 suggests a higher risk.\n",
    "* 95% Confidence Intervals: These intervals for the hazard ratios suggest the range of values that the hazard ratios are likely to fall within. For 'gender', the interval does not include 1, which typically indicates statistical significance, but here the p-value is 0.13 which suggests it is not statistically significant. For 'paper_pathologic_stage', the confidence interval does not include 1 and the p-value (<0.005) indicates significance.\n",
    "* Concordance: The concordance index is 0.54. This is a measure of the model's predictive ability, with 0.5 suggesting no better than random chance, and 1 indicating perfect prediction.\n",
    "* Partial AIC: The Partial Akaike Information Criterion is 11388.12, providing a measure for model comparison, with lower values indicating a better model.\n",
    "* Log-likelihood ratio test: The test statistic is 11.48 on 2 degrees of freedom with a p-value suggesting that the model is a significantly better fit than the null model."
   ]
  },
  {
   "cell_type": "code",
   "execution_count": 19,
   "id": "22247745-219d-4170-a37c-38ea91e15b0c",
   "metadata": {},
   "outputs": [
    {
     "data": {
      "text/plain": [
       "<Axes: xlabel='log(HR) (95% CI)'>"
      ]
     },
     "execution_count": 19,
     "metadata": {},
     "output_type": "execute_result"
    },
    {
     "data": {
      "image/png": "[encoded data removed]",
      "text/plain": [
       "<Figure size 432x288 with 1 Axes>"
      ]
     },
     "metadata": {
      "needs_background": "light"
     },
     "output_type": "display_data"
    }
   ],
   "source": [
    "cph.plot()"
   ]
  },
  {
   "cell_type": "code",
   "execution_count": 20,
   "id": "d4369f87-4928-4b58-9513-762952c1beb3",
   "metadata": {},
   "outputs": [
    {
     "data": {
      "text/plain": [
       "<Axes: >"
      ]
     },
     "execution_count": 20,
     "metadata": {},
     "output_type": "execute_result"
    },
    {
     "data": {
      "image/png": "[encoded data removed]",
      "text/plain": [
       "<Figure size 432x288 with 1 Axes>"
      ]
     },
     "metadata": {
      "needs_background": "light"
     },
     "output_type": "display_data"
    }
   ],
   "source": [
    "cph.predict_survival_function(df_tcga_rna_seq_clinical.head()).plot()"
   ]
  },
  {
   "cell_type": "code",
   "execution_count": null,
   "id": "c282e1cf-9f0b-428d-90e9-562f14a0ef22",
   "metadata": {},
   "outputs": [],
   "source": []
  }
 ],
 "metadata": {
  "kernelspec": {
   "display_name": "Conda",
   "language": "python",
   "name": "python3"
  },
  "language_info": {
   "codemirror_mode": {
    "name": "ipython",
    "version": 3
   },
   "file_extension": ".py",
   "mimetype": "text/x-python",
   "name": "python",
   "nbconvert_exporter": "python",
   "pygments_lexer": "ipython3",
   "version": "3.10.8"
  }
 },
 "nbformat": 4,
 "nbformat_minor": 5
}
